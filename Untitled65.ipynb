{
  "nbformat": 4,
  "nbformat_minor": 0,
  "metadata": {
    "colab": {
      "provenance": []
    },
    "kernelspec": {
      "name": "python3",
      "display_name": "Python 3"
    },
    "language_info": {
      "name": "python"
    }
  },
  "cells": [
    {
      "cell_type": "markdown",
      "source": [
        "ENUMERATE FUNCTION"
      ],
      "metadata": {
        "id": "-jJ7UbIeu7yR"
      }
    },
    {
      "cell_type": "code",
      "execution_count": null,
      "metadata": {
        "colab": {
          "base_uri": "https://localhost:8080/"
        },
        "id": "Fb11skPOuRx_",
        "outputId": "2e0515f1-ecf2-46c2-b8ef-1e519bde1edf"
      },
      "outputs": [
        {
          "output_type": "stream",
          "name": "stdout",
          "text": [
            "\n",
            "----- Student Grades System -----\n",
            "1. Display Students\n",
            "2. Add Student\n",
            "3. Update Grade\n",
            "4. Delete Student\n",
            "5. Exit\n"
          ]
        }
      ],
      "source": [
        "# Student Grades System using enumerate()\n",
        "\n",
        "# Function to display the students and their grades\n",
        "def display_students(students):\n",
        "    print(\"\\n--- Student Grades ---\")\n",
        "    for idx, student in enumerate(students, 1):  # Use enumerate to iterate with index\n",
        "        name, grade = student\n",
        "        print(f\"{idx}. {name}: {grade}\")\n",
        "\n",
        "# Function to add a new student\n",
        "def add_student(students):\n",
        "    name = input(\"Enter student name: \")\n",
        "    grade = input(f\"Enter grade for {name}: \")\n",
        "    students.append((name, grade))\n",
        "    print(f\"Student {name} added with grade {grade}.\")\n",
        "\n",
        "# Function to update a student's grade\n",
        "def update_grade(students):\n",
        "    display_students(students)\n",
        "    try:\n",
        "        student_number = int(input(\"Enter the student number to update grade: \"))\n",
        "        if 1 <= student_number <= len(students):\n",
        "            new_grade = input(f\"Enter new grade for {students[student_number - 1][0]}: \")\n",
        "            students[student_number - 1] = (students[student_number - 1][0], new_grade)\n",
        "            print(f\"Grade updated for {students[student_number - 1][0]}.\")\n",
        "        else:\n",
        "            print(\"Invalid student number.\")\n",
        "    except ValueError:\n",
        "        print(\"Invalid input. Please enter a number.\")\n",
        "\n",
        "# Function to delete a student\n",
        "def delete_student(students):\n",
        "    display_students(students)\n",
        "    try:\n",
        "        student_number = int(input(\"Enter the student number to delete: \"))\n",
        "        if 1 <= student_number <= len(students):\n",
        "            removed_student = students.pop(student_number - 1)\n",
        "            print(f\"Student {removed_student[0]} deleted.\")\n",
        "        else:\n",
        "            print(\"Invalid student number.\")\n",
        "    except ValueError:\n",
        "        print(\"Invalid input. Please enter a number.\")\n",
        "\n",
        "# Main program function\n",
        "def main():\n",
        "    students = [(\"Alice\", \"A\"), (\"Bob\", \"B+\"), (\"Charlie\", \"A-\")]\n",
        "\n",
        "    while True:\n",
        "        print(\"\\n----- Student Grades System -----\")\n",
        "        print(\"1. Display Students\")\n",
        "        print(\"2. Add Student\")\n",
        "        print(\"3. Update Grade\")\n",
        "        print(\"4. Delete Student\")\n",
        "        print(\"5. Exit\")\n",
        "\n",
        "        choice = input(\"Choose an option: \")\n",
        "\n",
        "        if choice == \"1\":\n",
        "            display_students(students)\n",
        "        elif choice == \"2\":\n",
        "            add_student(students)\n",
        "        elif choice == \"3\":\n",
        "            update_grade(students)\n",
        "        elif choice == \"4\":\n",
        "            delete_student(students)\n",
        "        elif choice == \"5\":\n",
        "            print(\"Exiting the program. Goodbye!\")\n",
        "            break\n",
        "        else:\n",
        "            print(\"Invalid choice. Please try again.\")\n",
        "\n",
        "if __name__ == \"__main__\":\n",
        "    main()\n"
      ]
    }
  ]
}
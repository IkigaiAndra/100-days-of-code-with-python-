{
  "nbformat": 4,
  "nbformat_minor": 0,
  "metadata": {
    "colab": {
      "provenance": []
    },
    "kernelspec": {
      "name": "python3",
      "display_name": "Python 3"
    },
    "language_info": {
      "name": "python"
    }
  },
  "cells": [
    {
      "cell_type": "code",
      "execution_count": 1,
      "metadata": {
        "colab": {
          "base_uri": "https://localhost:8080/"
        },
        "id": "j2IZfk_yEC6M",
        "outputId": "cc73e254-f1eb-453b-b4d0-fe181c15eb51"
      },
      "outputs": [
        {
          "output_type": "stream",
          "name": "stdout",
          "text": [
            "Students with their Grades:\n",
            "John: B\n",
            "Alice: A\n",
            "Bob: C\n",
            "Charlie: B\n",
            "David: D\n",
            "Eva: A\n",
            "\n",
            "Students who Passed (score >= 70):\n",
            "John: 85\n",
            "Alice: 92\n",
            "Bob: 72\n",
            "Charlie: 88\n",
            "Eva: 95\n",
            "\n",
            "Students Sorted by Name:\n",
            "Alice: 92\n",
            "Bob: 72\n",
            "Charlie: 88\n",
            "David: 60\n",
            "Eva: 95\n",
            "John: 85\n",
            "\n",
            "Students Sorted by Score (Descending):\n",
            "Eva: 95\n",
            "Alice: 92\n",
            "Charlie: 88\n",
            "John: 85\n",
            "Bob: 72\n",
            "David: 60\n"
          ]
        }
      ],
      "source": [
        "# List of students with their scores\n",
        "students = [\n",
        "    (\"John\", 85),\n",
        "    (\"Alice\", 92),\n",
        "    (\"Bob\", 72),\n",
        "    (\"Charlie\", 88),\n",
        "    (\"David\", 60),\n",
        "    (\"Eva\", 95),\n",
        "]\n",
        "\n",
        "# 1. Using map() to convert scores into grades\n",
        "def score_to_grade(score):\n",
        "    \"\"\"Converts score into grade.\"\"\"\n",
        "    if score >= 90:\n",
        "        return 'A'\n",
        "    elif score >= 80:\n",
        "        return 'B'\n",
        "    elif score >= 70:\n",
        "        return 'C'\n",
        "    elif score >= 60:\n",
        "        return 'D'\n",
        "    else:\n",
        "        return 'F'\n",
        "\n",
        "# Apply map() to convert scores to grades\n",
        "grades = list(map(lambda student: (student[0], score_to_grade(student[1])), students))\n",
        "\n",
        "# 2. Using filter() to filter out students who passed (score >= 70)\n",
        "def passed(student):\n",
        "    \"\"\"Checks if a student passed based on score.\"\"\"\n",
        "    return student[1] >= 70\n",
        "\n",
        "# Apply filter() to get students who passed\n",
        "passed_students = list(filter(passed, students))\n",
        "\n",
        "# 3. Using sorted() to sort students by name\n",
        "sorted_by_name = sorted(students, key=lambda student: student[0])\n",
        "\n",
        "# 4. Using sorted() to sort students by score in descending order\n",
        "sorted_by_score_desc = sorted(students, key=lambda student: student[1], reverse=True)\n",
        "\n",
        "# Output Results:\n",
        "print(\"Students with their Grades:\")\n",
        "for student in grades:\n",
        "    print(f\"{student[0]}: {student[1]}\")\n",
        "\n",
        "print(\"\\nStudents who Passed (score >= 70):\")\n",
        "for student in passed_students:\n",
        "    print(f\"{student[0]}: {student[1]}\")\n",
        "\n",
        "print(\"\\nStudents Sorted by Name:\")\n",
        "for student in sorted_by_name:\n",
        "    print(f\"{student[0]}: {student[1]}\")\n",
        "\n",
        "print(\"\\nStudents Sorted by Score (Descending):\")\n",
        "for student in sorted_by_score_desc:\n",
        "    print(f\"{student[0]}: {student[1]}\")\n"
      ]
    }
  ]
}
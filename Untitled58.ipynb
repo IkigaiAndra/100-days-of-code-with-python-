{
  "nbformat": 4,
  "nbformat_minor": 0,
  "metadata": {
    "colab": {
      "provenance": []
    },
    "kernelspec": {
      "name": "python3",
      "display_name": "Python 3"
    },
    "language_info": {
      "name": "python"
    }
  },
  "cells": [
    {
      "cell_type": "code",
      "execution_count": 1,
      "metadata": {
        "colab": {
          "base_uri": "https://localhost:8080/"
        },
        "id": "pmiH-C6MIDgS",
        "outputId": "0066ed42-9a9a-43a2-9140-b17b1a052378"
      },
      "outputs": [
        {
          "output_type": "stream",
          "name": "stdout",
          "text": [
            "Collecting qrcode[pil]\n",
            "  Downloading qrcode-8.0-py3-none-any.whl.metadata (17 kB)\n",
            "Requirement already satisfied: pillow>=9.1.0 in /usr/local/lib/python3.10/dist-packages (from qrcode[pil]) (11.1.0)\n",
            "Downloading qrcode-8.0-py3-none-any.whl (45 kB)\n",
            "\u001b[?25l   \u001b[90m━━━━━━━━━━━━━━━━━━━━━━━━━━━━━━━━━━━━━━━━\u001b[0m \u001b[32m0.0/45.7 kB\u001b[0m \u001b[31m?\u001b[0m eta \u001b[36m-:--:--\u001b[0m\r\u001b[2K   \u001b[90m━━━━━━━━━━━━━━━━━━━━━━━━━━━━━━━━━━━━━━━━\u001b[0m \u001b[32m45.7/45.7 kB\u001b[0m \u001b[31m3.5 MB/s\u001b[0m eta \u001b[36m0:00:00\u001b[0m\n",
            "\u001b[?25hInstalling collected packages: qrcode\n",
            "Successfully installed qrcode-8.0\n"
          ]
        }
      ],
      "source": [
        "pip install qrcode[pil]\n"
      ]
    },
    {
      "cell_type": "code",
      "source": [
        "import qrcode\n",
        "\n",
        "# Function to generate QR code\n",
        "def generate_qr_code(data, filename=\"qrcode.png\"):\n",
        "    # Create a QRCode object\n",
        "    qr = qrcode.QRCode(\n",
        "        version=1,  # controls the size of the QR code (1 is the smallest size)\n",
        "        error_correction=qrcode.constants.ERROR_CORRECT_L,  # error correction level (L: ~7% of the code can be restored)\n",
        "        box_size=10,  # size of each box in the QR code grid\n",
        "        border=4,  # width of the border (in boxes)\n",
        "    )\n",
        "\n",
        "    # Add the data (URL or text) to the QR code\n",
        "    qr.add_data(data)\n",
        "    qr.make(fit=True)  # Fit the data into the QR code\n",
        "\n",
        "    # Create an image from the QR Code\n",
        "    img = qr.make_image(fill='black', back_color='white')\n",
        "\n",
        "    # Save the image to a file\n",
        "    img.save(filename)\n",
        "    print(f\"QR code generated and saved as {filename}\")\n",
        "\n",
        "    # Display the image (optional)\n",
        "    img.show()\n",
        "\n",
        "# Main function to get user input and generate the QR code\n",
        "def main():\n",
        "    # Get user input for the data to encode in the QR code\n",
        "    data = input(\"Enter the data (URL or text) you want to encode in the QR code: \").strip()\n",
        "\n",
        "    # Get the optional filename to save the QR code image\n",
        "    filename = input(\"Enter the filename to save the QR code image (default: qrcode.png): \").strip()\n",
        "\n",
        "    # If no filename is provided, use the default\n",
        "    if not filename:\n",
        "        filename = \"qrcode.png\"\n",
        "\n",
        "    # Call the generate_qr_code function to create and save the QR code\n",
        "    generate_qr_code(data, filename)\n",
        "\n",
        "# Run the main function\n",
        "if __name__ == \"__main__\":\n",
        "    main()\n",
        "-"
      ],
      "metadata": {
        "colab": {
          "base_uri": "https://localhost:8080/"
        },
        "id": "wo4oEb7iInRn",
        "outputId": "246d4044-320d-43d6-d937-d91a6976e739"
      },
      "execution_count": 2,
      "outputs": [
        {
          "output_type": "stream",
          "name": "stdout",
          "text": [
            "Enter the data (URL or text) you want to encode in the QR code: 698887456123\n",
            "Enter the filename to save the QR code image (default: qrcode.png): qrcode.png\n",
            "QR code generated and saved as qrcode.png\n"
          ]
        }
      ]
    },
    {
      "cell_type": "code",
      "source": [
        "import qrcode\n",
        "\n",
        "# Function to generate QR code\n",
        "def generate_qr_code(data, filename=\"qrcode.png\"):\n",
        "    # Create a QRCode object\n",
        "    qr = qrcode.QRCode(\n",
        "        version=1,  # controls the size of the QR code (1 is the smallest size)\n",
        "        error_correction=qrcode.constants.ERROR_CORRECT_L,  # error correction level (L: ~7% of the code can be restored)\n",
        "        box_size=10,  # size of each box in the QR code grid\n",
        "        border=4,  # width of the border (in boxes)\n",
        "    )\n",
        "\n",
        "    # Add the data (URL or text) to the QR code\n",
        "    qr.add_data(data)\n",
        "    qr.make(fit=True)  # Fit the data into the QR code\n",
        "\n",
        "    # Create an image from the QR Code\n",
        "    img = qr.make_image(fill='black', back_color='white')\n",
        "\n",
        "    # Save the image to a file\n",
        "    img.save(filename)\n",
        "    print(f\"QR code generated and saved as {filename}\")\n",
        "\n",
        "    # Display the image (optional)\n",
        "    img.show()\n",
        "\n",
        "    # Print the QR code in ASCII to the console\n",
        "    print_qr_code_ascii(qr)\n",
        "\n",
        "# Function to print QR code in ASCII characters\n",
        "def print_qr_code_ascii(qr):\n",
        "    # Get the QR code matrix (the grid of modules)\n",
        "    qr_matrix = qr.get_matrix()\n",
        "\n",
        "    # Print each row of the matrix\n",
        "    for row in qr_matrix:\n",
        "        row_str = ''.join(['#' if cell else ' ' for cell in row])  # '#' represents black, ' ' represents white\n",
        "        print(row_str)\n",
        "\n",
        "# Main function to get user input and generate the QR code\n",
        "def main():\n",
        "    # Get user input for the data to encode in the QR code\n",
        "    data = input(\"Enter the data (URL or text) you want to encode in the QR code: \").strip()\n",
        "\n",
        "    # Get the optional filename to save the QR code image\n",
        "    filename = input(\"Enter the filename to save the QR code image (default: qrcode.png): \").strip()\n",
        "\n",
        "    # If no filename is provided, use the default\n",
        "    if not filename:\n",
        "        filename = \"qrcode.png\"\n",
        "\n",
        "    # Call the generate_qr_code function to create and save the QR code\n",
        "    generate_qr_code(data, filename)\n",
        "\n",
        "# Run the main function\n",
        "if __name__ == \"__main__\":\n",
        "    main()\n"
      ],
      "metadata": {
        "colab": {
          "base_uri": "https://localhost:8080/"
        },
        "id": "EPgjJCx9JUyV",
        "outputId": "fed24e9b-ef50-4ab5-e54a-1d1569e0780d"
      },
      "execution_count": 3,
      "outputs": [
        {
          "output_type": "stream",
          "name": "stdout",
          "text": [
            "Enter the data (URL or text) you want to encode in the QR code: 69696969\n",
            "Enter the filename to save the QR code image (default: qrcode.png): qr.png\n",
            "QR code generated and saved as qr.png\n",
            "                             \n",
            "                             \n",
            "                             \n",
            "                             \n",
            "    ####### ##### #######    \n",
            "    #     #  # #  #     #    \n",
            "    # ### #  ##   # ### #    \n",
            "    # ### #  ###  # ### #    \n",
            "    # ### #   # # # ### #    \n",
            "    #     #    ## #     #    \n",
            "    ####### # # # #######    \n",
            "            #####            \n",
            "    ## ## #  ## # #     #    \n",
            "    ####   # #  # # ##  #    \n",
            "     # ########  ## #        \n",
            "    #### # #  ##     ####    \n",
            "     #### #       #  # #     \n",
            "            ## ##  # ###     \n",
            "    #######   # #####  #     \n",
            "    #     #    ### ## #      \n",
            "    # ### # ##### ## #  #    \n",
            "    # ### # ## ##   ##       \n",
            "    # ### #  ##   #  ####    \n",
            "    #     # #    ## # # #    \n",
            "    ####### # ##      ##     \n",
            "                             \n",
            "                             \n",
            "                             \n",
            "                             \n"
          ]
        }
      ]
    }
  ]
}
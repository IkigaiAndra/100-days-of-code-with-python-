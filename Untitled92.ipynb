{
  "nbformat": 4,
  "nbformat_minor": 0,
  "metadata": {
    "colab": {
      "provenance": []
    },
    "kernelspec": {
      "name": "python3",
      "display_name": "Python 3"
    },
    "language_info": {
      "name": "python"
    }
  },
  "cells": [
    {
      "cell_type": "code",
      "execution_count": 1,
      "metadata": {
        "colab": {
          "base_uri": "https://localhost:8080/"
        },
        "id": "GCdwgThmEz6J",
        "outputId": "82eacb5e-b3cf-4fe3-d038-20afe6b1bac9"
      },
      "outputs": [
        {
          "output_type": "stream",
          "name": "stdout",
          "text": [
            "Enter a number to check if it's an Emirp: 562331111\n",
            "562331111 is not an Emirp number.\n"
          ]
        }
      ],
      "source": [
        "def is_prime(n):\n",
        "    if n <= 1:\n",
        "        return False\n",
        "    for i in range(2, int(n ** 0.5) + 1):\n",
        "        if n % i == 0:\n",
        "            return False\n",
        "    return True\n",
        "\n",
        "# Function to reverse a number\n",
        "def reverse_number(n):\n",
        "    return int(str(n)[::-1])\n",
        "\n",
        "# Function to check if a number is an Emirp\n",
        "def is_emirp(n):\n",
        "    # Check if the number itself is prime\n",
        "    if not is_prime(n):\n",
        "        return False\n",
        "\n",
        "    # Reverse the number\n",
        "    reversed_n = reverse_number(n)\n",
        "\n",
        "    # Check if the reversed number is prime and not equal to the original number\n",
        "    if reversed_n != n and is_prime(reversed_n):\n",
        "        return True\n",
        "    return False\n",
        "\n",
        "# Testing the Emirp check function\n",
        "number = int(input(\"Enter a number to check if it's an Emirp: \"))\n",
        "\n",
        "if is_emirp(number):\n",
        "    print(f\"{number} is an Emirp number.\")\n",
        "else:\n",
        "    print(f\"{number} is not an Emirp number.\")"
      ]
    }
  ]
}
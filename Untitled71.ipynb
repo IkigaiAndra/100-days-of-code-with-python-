{
  "nbformat": 4,
  "nbformat_minor": 0,
  "metadata": {
    "colab": {
      "provenance": []
    },
    "kernelspec": {
      "name": "python3",
      "display_name": "Python 3"
    },
    "language_info": {
      "name": "python"
    }
  },
  "cells": [
    {
      "cell_type": "code",
      "execution_count": 1,
      "metadata": {
        "colab": {
          "base_uri": "https://localhost:8080/"
        },
        "id": "5hzj1CFqAtb6",
        "outputId": "79d7ede1-cc13-4ae0-962c-ae256fe41b98"
      },
      "outputs": [
        {
          "output_type": "stream",
          "name": "stdout",
          "text": [
            "Original List: [1, 2, [99, 4, 5], 6]\n",
            "Shallow Copy: [1, 2, [99, 4, 5], 6]\n",
            "Deep Copy: [1, 2, [3, 4, 5], 6]\n",
            "\n",
            "After Modifying Top-level Elements:\n",
            "Original List: [1, 2, [99, 4, 5], 6]\n",
            "Shallow Copy: [10, 2, [99, 4, 5], 6]\n",
            "Deep Copy: [1, 20, [3, 4, 5], 6]\n"
          ]
        }
      ],
      "source": [
        "import copy\n",
        "\n",
        "# Sample nested data structure\n",
        "original_list = [1, 2, [3, 4, 5], 6]\n",
        "\n",
        "# Shallow Copy using list.copy() (for lists)\n",
        "shallow_copy = original_list.copy()\n",
        "\n",
        "# Deep Copy using copy.deepcopy()\n",
        "deep_copy = copy.deepcopy(original_list)\n",
        "\n",
        "# Modify the nested list inside the original list\n",
        "original_list[2][0] = 99\n",
        "\n",
        "# Print the results to compare shallow and deep copies\n",
        "print(\"Original List:\", original_list)        # [1, 2, [99, 4, 5], 6]\n",
        "print(\"Shallow Copy:\", shallow_copy)          # [1, 2, [99, 4, 5], 6]\n",
        "print(\"Deep Copy:\", deep_copy)                # [1, 2, [3, 4, 5], 6]\n",
        "\n",
        "# Modify a top-level element in the shallow copy and deep copy\n",
        "shallow_copy[0] = 10\n",
        "deep_copy[1] = 20\n",
        "\n",
        "# Print after modifying top-level elements\n",
        "print(\"\\nAfter Modifying Top-level Elements:\")\n",
        "print(\"Original List:\", original_list)        # [1, 2, [99, 4, 5], 6]\n",
        "print(\"Shallow Copy:\", shallow_copy)          # [10, 2, [99, 4, 5], 6]\n",
        "print(\"Deep Copy:\", deep_copy)                # [1, 20, [3, 4, 5], 6]\n"
      ]
    }
  ]
}
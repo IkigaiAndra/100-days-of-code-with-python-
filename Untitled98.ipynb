{
  "nbformat": 4,
  "nbformat_minor": 0,
  "metadata": {
    "colab": {
      "provenance": []
    },
    "kernelspec": {
      "name": "python3",
      "display_name": "Python 3"
    },
    "language_info": {
      "name": "python"
    }
  },
  "cells": [
    {
      "cell_type": "code",
      "execution_count": 1,
      "metadata": {
        "colab": {
          "base_uri": "https://localhost:8080/",
          "height": 332
        },
        "id": "kCwGNv0BlqaL",
        "outputId": "c902cfb1-8ef0-4d5e-e774-ed1ec15e89de"
      },
      "outputs": [
        {
          "output_type": "error",
          "ename": "TclError",
          "evalue": "no display name and no $DISPLAY environment variable",
          "traceback": [
            "\u001b[0;31m---------------------------------------------------------------------------\u001b[0m",
            "\u001b[0;31mTclError\u001b[0m                                  Traceback (most recent call last)",
            "\u001b[0;32m<ipython-input-1-aa74512a8abc>\u001b[0m in \u001b[0;36m<cell line: 56>\u001b[0;34m()\u001b[0m\n\u001b[1;32m     54\u001b[0m \u001b[0;34m\u001b[0m\u001b[0m\n\u001b[1;32m     55\u001b[0m \u001b[0;31m# Create main window\u001b[0m\u001b[0;34m\u001b[0m\u001b[0;34m\u001b[0m\u001b[0m\n\u001b[0;32m---> 56\u001b[0;31m \u001b[0mroot\u001b[0m \u001b[0;34m=\u001b[0m \u001b[0mtk\u001b[0m\u001b[0;34m.\u001b[0m\u001b[0mTk\u001b[0m\u001b[0;34m(\u001b[0m\u001b[0;34m)\u001b[0m\u001b[0;34m\u001b[0m\u001b[0;34m\u001b[0m\u001b[0m\n\u001b[0m\u001b[1;32m     57\u001b[0m \u001b[0mroot\u001b[0m\u001b[0;34m.\u001b[0m\u001b[0mtitle\u001b[0m\u001b[0;34m(\u001b[0m\u001b[0;34m\"Image Resizer with Pixel Count\"\u001b[0m\u001b[0;34m)\u001b[0m\u001b[0;34m\u001b[0m\u001b[0;34m\u001b[0m\u001b[0m\n\u001b[1;32m     58\u001b[0m \u001b[0;34m\u001b[0m\u001b[0m\n",
            "\u001b[0;32m/usr/lib/python3.10/tkinter/__init__.py\u001b[0m in \u001b[0;36m__init__\u001b[0;34m(self, screenName, baseName, className, useTk, sync, use)\u001b[0m\n\u001b[1;32m   2297\u001b[0m                 \u001b[0mbaseName\u001b[0m \u001b[0;34m=\u001b[0m \u001b[0mbaseName\u001b[0m \u001b[0;34m+\u001b[0m \u001b[0mext\u001b[0m\u001b[0;34m\u001b[0m\u001b[0;34m\u001b[0m\u001b[0m\n\u001b[1;32m   2298\u001b[0m         \u001b[0minteractive\u001b[0m \u001b[0;34m=\u001b[0m \u001b[0;32mFalse\u001b[0m\u001b[0;34m\u001b[0m\u001b[0;34m\u001b[0m\u001b[0m\n\u001b[0;32m-> 2299\u001b[0;31m         \u001b[0mself\u001b[0m\u001b[0;34m.\u001b[0m\u001b[0mtk\u001b[0m \u001b[0;34m=\u001b[0m \u001b[0m_tkinter\u001b[0m\u001b[0;34m.\u001b[0m\u001b[0mcreate\u001b[0m\u001b[0;34m(\u001b[0m\u001b[0mscreenName\u001b[0m\u001b[0;34m,\u001b[0m \u001b[0mbaseName\u001b[0m\u001b[0;34m,\u001b[0m \u001b[0mclassName\u001b[0m\u001b[0;34m,\u001b[0m \u001b[0minteractive\u001b[0m\u001b[0;34m,\u001b[0m \u001b[0mwantobjects\u001b[0m\u001b[0;34m,\u001b[0m \u001b[0museTk\u001b[0m\u001b[0;34m,\u001b[0m \u001b[0msync\u001b[0m\u001b[0;34m,\u001b[0m \u001b[0muse\u001b[0m\u001b[0;34m)\u001b[0m\u001b[0;34m\u001b[0m\u001b[0;34m\u001b[0m\u001b[0m\n\u001b[0m\u001b[1;32m   2300\u001b[0m         \u001b[0;32mif\u001b[0m \u001b[0museTk\u001b[0m\u001b[0;34m:\u001b[0m\u001b[0;34m\u001b[0m\u001b[0;34m\u001b[0m\u001b[0m\n\u001b[1;32m   2301\u001b[0m             \u001b[0mself\u001b[0m\u001b[0;34m.\u001b[0m\u001b[0m_loadtk\u001b[0m\u001b[0;34m(\u001b[0m\u001b[0;34m)\u001b[0m\u001b[0;34m\u001b[0m\u001b[0;34m\u001b[0m\u001b[0m\n",
            "\u001b[0;31mTclError\u001b[0m: no display name and no $DISPLAY environment variable"
          ]
        }
      ],
      "source": [
        "import tkinter as tk\n",
        "from tkinter import filedialog, messagebox\n",
        "from PIL import Image, ImageTk\n",
        "\n",
        "# Function to resize the image and display it\n",
        "def resize_image():\n",
        "    try:\n",
        "        # Get the user input for width and height\n",
        "        new_width = int(entry_width.get())\n",
        "        new_height = int(entry_height.get())\n",
        "\n",
        "        if new_width <= 0 or new_height <= 0:\n",
        "            raise ValueError(\"Width and Height must be positive integers.\")\n",
        "\n",
        "        # Open the image and resize it\n",
        "        img = Image.open(image_path)\n",
        "        img_resized = img.resize((new_width, new_height))\n",
        "\n",
        "        # Show the resized image\n",
        "        img_resized.show()\n",
        "\n",
        "        # Update pixel count\n",
        "        pixel_count = new_width * new_height\n",
        "        label_pixel_count.config(text=f\"Pixel Count: {pixel_count}\")\n",
        "\n",
        "        # Save resized image\n",
        "        img_resized.save(\"resized_image.png\")\n",
        "        label_result.config(text=\"Image has been resized and saved as 'resized_image.png'.\")\n",
        "\n",
        "    except Exception as e:\n",
        "        messagebox.showerror(\"Error\", f\"Error resizing image: {str(e)}\")\n",
        "\n",
        "# Function to browse and load an image\n",
        "def open_image():\n",
        "    global image_path\n",
        "    image_path = filedialog.askopenfilename(filetypes=[(\"Image Files\", \"*.png;*.jpg;*.jpeg;*.bmp;*.gif\")])\n",
        "\n",
        "    if image_path:\n",
        "        # Open the image to get original dimensions\n",
        "        img = Image.open(image_path)\n",
        "        width, height = img.size\n",
        "\n",
        "        # Update the labels with the original image dimensions\n",
        "        label_original.config(text=f\"Original Dimensions: {width} x {height}\")\n",
        "        entry_width.delete(0, tk.END)\n",
        "        entry_width.insert(0, str(width))\n",
        "        entry_height.delete(0, tk.END)\n",
        "        entry_height.insert(0, str(height))\n",
        "\n",
        "        # Enable resize option\n",
        "        button_resize.config(state=tk.NORMAL)\n",
        "    else:\n",
        "        messagebox.showerror(\"Error\", \"No image selected!\")\n",
        "\n",
        "# Create main window\n",
        "root = tk.Tk()\n",
        "root.title(\"Image Resizer with Pixel Count\")\n",
        "\n",
        "# Set window size\n",
        "root.geometry(\"400x400\")\n",
        "\n",
        "# Global variable to store image path\n",
        "image_path = \"\"\n",
        "\n",
        "# Create widgets\n",
        "label_original = tk.Label(root, text=\"Original Dimensions: None\", font=(\"Arial\", 10))\n",
        "label_original.pack(pady=10)\n",
        "\n",
        "button_open = tk.Button(root, text=\"Open Image\", command=open_image)\n",
        "button_open.pack(pady=5)\n",
        "\n",
        "label_width = tk.Label(root, text=\"New Width:\")\n",
        "label_width.pack(pady=5)\n",
        "entry_width = tk.Entry(root)\n",
        "entry_width.pack(pady=5)\n",
        "\n",
        "label_height = tk.Label(root, text=\"New Height:\")\n",
        "label_height.pack(pady=5)\n",
        "entry_height = tk.Entry(root)\n",
        "entry_height.pack(pady=5)\n",
        "\n",
        "button_resize = tk.Button(root, text=\"Resize Image\", state=tk.DISABLED, command=resize_image)\n",
        "button_resize.pack(pady=10)\n",
        "\n",
        "label_pixel_count = tk.Label(root, text=\"Pixel Count: None\", font=(\"Arial\", 10))\n",
        "label_pixel_count.pack(pady=5)\n",
        "\n",
        "label_result = tk.Label(root, text=\"\", font=(\"Arial\", 10))\n",
        "label_result.pack(pady=5)\n",
        "\n",
        "# Start the GUI event loop\n",
        "root.mainloop()\n"
      ]
    }
  ]
}
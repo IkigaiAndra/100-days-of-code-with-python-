{
  "nbformat": 4,
  "nbformat_minor": 0,
  "metadata": {
    "colab": {
      "provenance": []
    },
    "kernelspec": {
      "name": "python3",
      "display_name": "Python 3"
    },
    "language_info": {
      "name": "python"
    }
  },
  "cells": [
    {
      "cell_type": "markdown",
      "source": [
        "VALIDATE PHONE NUMBER"
      ],
      "metadata": {
        "id": "qxgCBYkri_Xd"
      }
    },
    {
      "cell_type": "code",
      "execution_count": 1,
      "metadata": {
        "colab": {
          "base_uri": "https://localhost:8080/"
        },
        "id": "0CW32v-yiwHq",
        "outputId": "535a52ff-204b-4a54-8ec6-b285776058cc"
      },
      "outputs": [
        {
          "output_type": "stream",
          "name": "stdout",
          "text": [
            "Enter a phone number: 7439666777\n",
            "Invalid phone number.\n"
          ]
        }
      ],
      "source": [
        "import re\n",
        "\n",
        "def validate_phone_number(phone_number):\n",
        "    pattern = r\"^(\\(\\d{3}\\)\\s?|\\d{3}-)\\d{3}-\\d{4}$\"\n",
        "    return bool(re.match(pattern, phone_number))\n",
        "\n",
        "# Test cases\n",
        "phone = input(\"Enter a phone number: \")\n",
        "if validate_phone_number(phone):\n",
        "    print(\"Valid phone number.\")\n",
        "else:\n",
        "    print(\"Invalid phone number.\")\n"
      ]
    },
    {
      "cell_type": "markdown",
      "source": [
        "WORDS STARTING WITH \"B\""
      ],
      "metadata": {
        "id": "Dtf3_tlwkcvB"
      }
    },
    {
      "cell_type": "code",
      "source": [
        "import re\n",
        "\n",
        "def find_words_starting_with_b(text):\n",
        "    pattern = r\"\\bb\\w*\\b\"\n",
        "    return re.findall(pattern, text)\n",
        "\n",
        "# Test text\n",
        "text = \"The big brown bear bounded across the blue river.\"\n",
        "words_with_b = find_words_starting_with_b(text)\n",
        "print(\"Words starting with 'b':\", words_with_b)\n"
      ],
      "metadata": {
        "colab": {
          "base_uri": "https://localhost:8080/"
        },
        "id": "Sqh1Uv8hi5TO",
        "outputId": "814f2fc4-9d5d-4186-b41a-1b2765723bc8"
      },
      "execution_count": 2,
      "outputs": [
        {
          "output_type": "stream",
          "name": "stdout",
          "text": [
            "Words starting with 'b': ['big', 'brown', 'bear', 'bounded', 'blue']\n"
          ]
        }
      ]
    },
    {
      "cell_type": "markdown",
      "source": [
        "EXTRACT URLS"
      ],
      "metadata": {
        "id": "aUurUAGVkk0u"
      }
    },
    {
      "cell_type": "code",
      "source": [
        "import re\n",
        "\n",
        "def extract_urls(text):\n",
        "    pattern = r\"https?://[a-zA-Z0-9.-]+\\.[a-zA-Z]{2,}\"\n",
        "    return re.findall(pattern, text)\n",
        "\n",
        "# Test text with URLs\n",
        "text_with_urls = \"\"\"\n",
        "Visit our website at https://www.example.com or check out our blog at http://blog.example.org.\n",
        "Don't forget to check our store at https://store.example.com.\n",
        "\"\"\"\n",
        "urls = extract_urls(text_with_urls)\n",
        "print(\"Extracted URLs:\", urls)\n"
      ],
      "metadata": {
        "colab": {
          "base_uri": "https://localhost:8080/"
        },
        "id": "6e8uvVlckeol",
        "outputId": "20013b2d-441d-46e9-8d70-7415c0aaa63f"
      },
      "execution_count": 3,
      "outputs": [
        {
          "output_type": "stream",
          "name": "stdout",
          "text": [
            "Extracted URLs: ['https://www.example.com', 'http://blog.example.org', 'https://store.example.com']\n"
          ]
        }
      ]
    },
    {
      "cell_type": "markdown",
      "source": [
        "REPLACE ALL DIGITS WITH \"X\""
      ],
      "metadata": {
        "id": "UCo_pH3MkvPX"
      }
    },
    {
      "cell_type": "code",
      "source": [
        "import re\n",
        "\n",
        "def replace_digits_with_x(text):\n",
        "    return re.sub(r\"\\d\", \"X\", text)\n",
        "\n",
        "# Test text with digits\n",
        "text_with_digits = \"My phone number is 123-456-7890 and my zip code is 98765.\"\n",
        "new_text = replace_digits_with_x(text_with_digits)\n",
        "print(\"Text with digits replaced:\", new_text)\n"
      ],
      "metadata": {
        "colab": {
          "base_uri": "https://localhost:8080/"
        },
        "id": "__JA6mAvkkA3",
        "outputId": "afa3aa84-0bf7-4e38-ef07-421fcb65acb7"
      },
      "execution_count": 4,
      "outputs": [
        {
          "output_type": "stream",
          "name": "stdout",
          "text": [
            "Text with digits replaced: My phone number is XXX-XXX-XXXX and my zip code is XXXXX.\n"
          ]
        }
      ]
    },
    {
      "cell_type": "code",
      "source": [],
      "metadata": {
        "id": "SOCMHqPZkuTu"
      },
      "execution_count": null,
      "outputs": []
    }
  ]
}
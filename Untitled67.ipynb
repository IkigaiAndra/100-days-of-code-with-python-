{
  "nbformat": 4,
  "nbformat_minor": 0,
  "metadata": {
    "colab": {
      "provenance": []
    },
    "kernelspec": {
      "name": "python3",
      "display_name": "Python 3"
    },
    "language_info": {
      "name": "python"
    }
  },
  "cells": [
    {
      "cell_type": "code",
      "execution_count": 1,
      "metadata": {
        "colab": {
          "base_uri": "https://localhost:8080/"
        },
        "id": "k5zfGY0l67Ll",
        "outputId": "b3bc2f02-def9-4a64-c5c8-d614df440cb9"
      },
      "outputs": [
        {
          "output_type": "stream",
          "name": "stdout",
          "text": [
            "2020 Toyota Corolla in Blue\n",
            "This car has 0 miles on it.\n",
            "This car has 15000 miles on it.\n",
            "This car has 15500 miles on it.\n",
            "You can't roll back the odometer!\n"
          ]
        }
      ],
      "source": [
        "# Defining the Car class\n",
        "class Car:\n",
        "    # Constructor to initialize the attributes\n",
        "    def __init__(self, make, model, year, color):\n",
        "        self.make = make        # Attribute for the car's make (e.g., Toyota)\n",
        "        self.model = model      # Attribute for the car's model (e.g., Corolla)\n",
        "        self.year = year        # Attribute for the car's year (e.g., 2020)\n",
        "        self.color = color      # Attribute for the car's color (e.g., Blue)\n",
        "        self.odometer_reading = 0  # Default value for odometer reading\n",
        "\n",
        "    # Method to describe the car\n",
        "    def describe_car(self):\n",
        "        return f\"{self.year} {self.make} {self.model} in {self.color}\"\n",
        "\n",
        "    # Method to update the odometer reading\n",
        "    def update_odometer(self, mileage):\n",
        "        if mileage >= self.odometer_reading:\n",
        "            self.odometer_reading = mileage\n",
        "        else:\n",
        "            print(\"You can't roll back the odometer!\")\n",
        "\n",
        "    # Method to increment the odometer reading\n",
        "    def increment_odometer(self, miles):\n",
        "        self.odometer_reading += miles\n",
        "\n",
        "    # Method to display the car's information\n",
        "    def read_odometer(self):\n",
        "        return f\"This car has {self.odometer_reading} miles on it.\"\n",
        "\n",
        "# Creating an instance of the Car class\n",
        "my_car = Car(\"Toyota\", \"Corolla\", 2020, \"Blue\")\n",
        "\n",
        "# Calling methods on the class instance\n",
        "print(my_car.describe_car())         # Calling describe_car method\n",
        "print(my_car.read_odometer())        # Calling read_odometer method\n",
        "\n",
        "# Updating the car's odometer\n",
        "my_car.update_odometer(15000)       # Setting the odometer to 15,000 miles\n",
        "print(my_car.read_odometer())        # Calling read_odometer method again\n",
        "\n",
        "# Incrementing the car's odometer\n",
        "my_car.increment_odometer(500)      # Adding 500 miles\n",
        "print(my_car.read_odometer())        # Calling read_odometer method after increment\n",
        "\n",
        "# Trying to set a lower odometer value (This will raise an error)\n",
        "my_car.update_odometer(12000)       # This should trigger an error message\n"
      ]
    },
    {
      "cell_type": "code",
      "source": [
        "class MyClass:\n",
        "    # Class variable\n",
        "    class_variable = \"I am a class variable\"\n",
        "\n",
        "    # Constructor to initialize instance variables\n",
        "    def __init__(self, instance_variable):\n",
        "        self.instance_variable = instance_variable  # Instance variable\n",
        "\n",
        "    # Instance Method\n",
        "    def instance_method(self):\n",
        "        return f\"Instance Method: {self.instance_variable}\"\n",
        "\n",
        "    # Class Method\n",
        "    @classmethod\n",
        "    def class_method(cls):\n",
        "        return f\"Class Method: {cls.class_variable}\"\n",
        "\n",
        "    # Static Method\n",
        "    @staticmethod\n",
        "    def static_method(message):\n",
        "        return f\"Static Method: {message}\"\n",
        "\n",
        "\n",
        "# Creating an instance of MyClass\n",
        "my_object = MyClass(\"I am an instance variable\")\n",
        "\n",
        "# Accessing the instance method\n",
        "print(my_object.instance_method())  # Instance Method: I am an instance variable\n",
        "\n",
        "# Accessing the class method via the instance\n",
        "print(my_object.class_method())  # Class Method: I am a class variable\n",
        "\n",
        "# Accessing the static method via the instance\n",
        "print(my_object.static_method(\"Hello, static method!\"))  # Static Method: Hello, static method!\n",
        "\n",
        "# Accessing the class method via the class itself\n",
        "print(MyClass.class_method())  # Class Method: I am a class variable\n",
        "\n",
        "# Accessing the static method via the class itself\n",
        "print(MyClass.static_method(\"Hello from the class!\"))  # Static Method: Hello from the class!\n"
      ],
      "metadata": {
        "colab": {
          "base_uri": "https://localhost:8080/"
        },
        "id": "v-n-_Zo_7wnm",
        "outputId": "ec08abda-2fb5-40ee-97c1-8ac00d014e00"
      },
      "execution_count": 2,
      "outputs": [
        {
          "output_type": "stream",
          "name": "stdout",
          "text": [
            "Instance Method: I am an instance variable\n",
            "Class Method: I am a class variable\n",
            "Static Method: Hello, static method!\n",
            "Class Method: I am a class variable\n",
            "Static Method: Hello from the class!\n"
          ]
        }
      ]
    }
  ]
}
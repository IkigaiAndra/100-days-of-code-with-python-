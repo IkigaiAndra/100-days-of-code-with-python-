{
  "nbformat": 4,
  "nbformat_minor": 0,
  "metadata": {
    "colab": {
      "provenance": []
    },
    "kernelspec": {
      "name": "python3",
      "display_name": "Python 3"
    },
    "language_info": {
      "name": "python"
    }
  },
  "cells": [
    {
      "cell_type": "code",
      "execution_count": 1,
      "metadata": {
        "colab": {
          "base_uri": "https://localhost:8080/"
        },
        "id": "4Jwx77NdTESv",
        "outputId": "fe148aad-2bf5-4857-f083-d927ce233ead"
      },
      "outputs": [
        {
          "output_type": "stream",
          "name": "stdout",
          "text": [
            "Enter names of participants. Type 'done' when finished\n",
            "Enter name: A\n",
            "Enter name: B\n",
            "Enter name: C\n",
            "Enter name: GG\n",
            "Enter name: R\n",
            "Enter name: done\n",
            "\n",
            "--- Secret Santa Pairings ---\n",
            "A will give a gift to GG\n",
            "GG will give a gift to C\n",
            "C will give a gift to R\n",
            "R will give a gift to B\n",
            "B will give a gift to A\n",
            "\n",
            "Pairings saved to 'secret_santa_pairs.txt'\n"
          ]
        }
      ],
      "source": [
        "import random\n",
        "\n",
        "def assign_secret_santa(participants):\n",
        "    random.shuffle(participants)\n",
        "    santa_pairs = {}\n",
        "    for i in range(len(participants)):\n",
        "        santa_pairs[participants[i]] = participants[(i + 1) % len(participants)]\n",
        "    return santa_pairs\n",
        "\n",
        "\n",
        "participants = []\n",
        "print(\"Enter names of participants. Type 'done' when finished\")\n",
        "\n",
        "while True:\n",
        "    name = input(\"Enter name: \")\n",
        "    if name.lower() == 'done':\n",
        "        break\n",
        "    participants.append(name)\n",
        "\n",
        "# Check if there are enough participants\n",
        "if len(participants) < 2:\n",
        "    print(\"Not enough participants. Please add at least 2 people.\")\n",
        "else:\n",
        "    santa_pairs = assign_secret_santa(participants)\n",
        "\n",
        "    # Display the pairings\n",
        "    print(\"\\n--- Secret Santa Pairings ---\")\n",
        "    for santa, recipient in santa_pairs.items():\n",
        "        print(f\"{santa} will give a gift to {recipient}\")\n",
        "\n",
        "    with open(\"secret_santa_pairs.txt\", \"w\") as file:\n",
        "        file.write(\"--- Secret Santa Pairings ---\")\n",
        "        for santa, recipient in santa_pairs.items():\n",
        "            file.write(f\"{santa} will give a gift to {recipient}\\n\")\n",
        "\n",
        "    print(\"\\nPairings saved to 'secret_santa_pairs.txt'\")"
      ]
    }
  ]
}
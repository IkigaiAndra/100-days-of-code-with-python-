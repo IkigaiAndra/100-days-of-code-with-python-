{
  "nbformat": 4,
  "nbformat_minor": 0,
  "metadata": {
    "colab": {
      "provenance": []
    },
    "kernelspec": {
      "name": "python3",
      "display_name": "Python 3"
    },
    "language_info": {
      "name": "python"
    }
  },
  "cells": [
    {
      "cell_type": "code",
      "execution_count": 1,
      "metadata": {
        "colab": {
          "base_uri": "https://localhost:8080/"
        },
        "id": "_zRTs-YfFlxZ",
        "outputId": "82c8fd6c-7e98-475b-a88e-5c50a8441e6e"
      },
      "outputs": [
        {
          "output_type": "stream",
          "name": "stdout",
          "text": [
            "Enter a binary number: 0101\n",
            "The decimal value of binary 0101 is: 5\n"
          ]
        }
      ],
      "source": [
        "# Function to convert binary to decimal\n",
        "def binary_to_decimal(binary_str):\n",
        "    decimal_value = 0\n",
        "    binary_str = binary_str[::-1]  # Reverse the binary string for easy calculation\n",
        "\n",
        "    # Iterate through each digit of the reversed binary string\n",
        "    for i in range(len(binary_str)):\n",
        "        if binary_str[i] == '1':\n",
        "            decimal_value += 2 ** i  # Add 2^i to the decimal value if the bit is '1'\n",
        "\n",
        "    return decimal_value\n",
        "\n",
        "# Example usage\n",
        "binary_number = input(\"Enter a binary number: \")\n",
        "\n",
        "# Validate if the input is a valid binary number\n",
        "if all(bit in '01' for bit in binary_number):\n",
        "    decimal_result = binary_to_decimal(binary_number)\n",
        "    print(f\"The decimal value of binary {binary_number} is: {decimal_result}\")\n",
        "else:\n",
        "    print(\"Invalid binary number. Please enter a binary number consisting only of 0s and 1s.\")\n"
      ]
    },
    {
      "cell_type": "markdown",
      "source": [
        "OTHER METHOD WITH INT"
      ],
      "metadata": {
        "id": "6y50BeKOGP4a"
      }
    },
    {
      "cell_type": "code",
      "source": [
        "binary_number = input(\"Enter a binary number: \")\n",
        "\n",
        "# Using the int function to convert binary to decimal\n",
        "try:\n",
        "    decimal_value = int(binary_number, 2)\n",
        "    print(f\"The decimal value of binary {binary_number} is: {decimal_value}\")\n",
        "except ValueError:\n",
        "    print(\"Invalid binary number. Please enter a binary number consisting only of 0s and 1s.\")\n"
      ],
      "metadata": {
        "colab": {
          "base_uri": "https://localhost:8080/"
        },
        "id": "M2t5Vkj_GDP_",
        "outputId": "a5219e91-17f7-4fd3-ccdb-4e5d9cf95012"
      },
      "execution_count": 2,
      "outputs": [
        {
          "output_type": "stream",
          "name": "stdout",
          "text": [
            "Enter a binary number: 1000\n",
            "The decimal value of binary 1000 is: 8\n"
          ]
        }
      ]
    },
    {
      "cell_type": "markdown",
      "source": [
        "ALL FORMS OF NUMBER CONVERTOR WITH BASE 2,8,10,16"
      ],
      "metadata": {
        "id": "a9lomR-cG21P"
      }
    },
    {
      "cell_type": "code",
      "source": [
        "# Function to convert from any base to decimal (base 10)\n",
        "def to_decimal(number_str, base):\n",
        "    return int(number_str, base)\n",
        "\n",
        "# Function to convert from decimal to any base\n",
        "def from_decimal(decimal_num, base):\n",
        "    if base == 2:\n",
        "        return bin(decimal_num)[2:]  # Removing the \"0b\" prefix\n",
        "    elif base == 8:\n",
        "        return oct(decimal_num)[2:]  # Removing the \"0o\" prefix\n",
        "    elif base == 16:\n",
        "        return hex(decimal_num)[2:].upper()  # Removing the \"0x\" prefix and making it uppercase\n",
        "    else:\n",
        "        return str(decimal_num)\n",
        "\n",
        "# Function to convert any base to another base\n",
        "def convert_number(number_str, from_base, to_base):\n",
        "    # Convert the input number to decimal (base 10)\n",
        "    decimal_num = to_decimal(number_str, from_base)\n",
        "\n",
        "    # Convert from decimal to the target base\n",
        "    return from_decimal(decimal_num, to_base)\n",
        "\n",
        "# Input from user\n",
        "number_str = input(\"Enter the number: \")\n",
        "from_base = int(input(\"Enter the base of the input number (2, 8, 10, 16): \"))\n",
        "to_base = int(input(\"Enter the base you want to convert to (2, 8, 10, 16): \"))\n",
        "\n",
        "# Validate the input base and the number\n",
        "try:\n",
        "    # Check if the number is valid for the given base\n",
        "    int(number_str, from_base)  # This will raise an error if the number is not valid for the base\n",
        "\n",
        "    # Perform the conversion\n",
        "    result = convert_number(number_str, from_base, to_base)\n",
        "\n",
        "    # Output the result\n",
        "    print(f\"The number {number_str} in base {from_base} is {result} in base {to_base}.\")\n",
        "except ValueError:\n",
        "    print(f\"Invalid number or base. Please check your input and try again.\")\n"
      ],
      "metadata": {
        "colab": {
          "base_uri": "https://localhost:8080/"
        },
        "id": "28aP028YGUi2",
        "outputId": "50ce3694-d962-4468-9f4c-9b8b1452b2fa"
      },
      "execution_count": 3,
      "outputs": [
        {
          "output_type": "stream",
          "name": "stdout",
          "text": [
            "Enter the number: 69\n",
            "Enter the base of the input number (2, 8, 10, 16): 16\n",
            "Enter the base you want to convert to (2, 8, 10, 16): 2\n",
            "The number 69 in base 16 is 1101001 in base 2.\n"
          ]
        }
      ]
    },
    {
      "cell_type": "markdown",
      "source": [
        "NUMBER CONVERTOR FOR ANY BASE FROM 2-36"
      ],
      "metadata": {
        "id": "Ve3IYVImHklN"
      }
    },
    {
      "cell_type": "code",
      "source": [
        "# Function to convert any base to decimal (base 10)\n",
        "def to_decimal(number_str, base):\n",
        "    return int(number_str, base)\n",
        "\n",
        "# Function to convert from decimal (base 10) to any other base\n",
        "def from_decimal(decimal_num, base):\n",
        "    if decimal_num == 0:\n",
        "        return '0'\n",
        "\n",
        "    digits = \"0123456789ABCDEFGHIJKLMNOPQRSTUVWXYZ\"\n",
        "    result = \"\"\n",
        "\n",
        "    while decimal_num > 0:\n",
        "        remainder = decimal_num % base\n",
        "        result = digits[remainder] + result\n",
        "        decimal_num = decimal_num // base\n",
        "\n",
        "    return result\n",
        "\n",
        "# Function to convert a number from one base to another\n",
        "def convert_number(number_str, from_base, to_base):\n",
        "    # Convert the input number to decimal (base 10)\n",
        "    decimal_num = to_decimal(number_str, from_base)\n",
        "\n",
        "    # Convert from decimal to the target base\n",
        "    return from_decimal(decimal_num, to_base)\n",
        "\n",
        "# Input from user\n",
        "number_str = input(\"Enter the number: \").strip().upper()  # Convert input to uppercase\n",
        "from_base = int(input(\"Enter the base of the input number (2-36): \"))\n",
        "to_base = int(input(\"Enter the base you want to convert to (2-36): \"))\n",
        "\n",
        "# Validate the input base and the number\n",
        "try:\n",
        "    # Check if the number is valid for the given base\n",
        "    int(number_str, from_base)  # This will raise an error if the number is not valid for the base\n",
        "\n",
        "    # Perform the conversion\n",
        "    result = convert_number(number_str, from_base, to_base)\n",
        "\n",
        "    # Output the result\n",
        "    print(f\"The number {number_str} in base {from_base} is {result} in base {to_base}.\")\n",
        "except ValueError:\n",
        "    print(f\"Invalid number or base. Please check your input and try again.\")\n"
      ],
      "metadata": {
        "colab": {
          "base_uri": "https://localhost:8080/"
        },
        "id": "0Z9uQ8rxG_sK",
        "outputId": "38e02786-cbb6-48ee-f547-91ea8f9a842f"
      },
      "execution_count": 4,
      "outputs": [
        {
          "output_type": "stream",
          "name": "stdout",
          "text": [
            "Enter the number: 97\n",
            "Enter the base of the input number (2-36): 36\n",
            "Enter the base you want to convert to (2-36): 23\n",
            "The number 97 in base 36 is E9 in base 23.\n"
          ]
        }
      ]
    }
  ]
}
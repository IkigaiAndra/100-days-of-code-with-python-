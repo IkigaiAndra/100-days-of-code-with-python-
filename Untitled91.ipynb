{
  "nbformat": 4,
  "nbformat_minor": 0,
  "metadata": {
    "colab": {
      "provenance": []
    },
    "kernelspec": {
      "name": "python3",
      "display_name": "Python 3"
    },
    "language_info": {
      "name": "python"
    }
  },
  "cells": [
    {
      "cell_type": "code",
      "execution_count": 1,
      "metadata": {
        "colab": {
          "base_uri": "https://localhost:8080/"
        },
        "id": "m1qoQZe4Ceud",
        "outputId": "ca3c4e12-40a5-4c6f-d8a0-3cc493b15faa"
      },
      "outputs": [
        {
          "output_type": "stream",
          "name": "stdout",
          "text": [
            "Requirement already satisfied: requests in /usr/local/lib/python3.10/dist-packages (2.32.3)\n",
            "Requirement already satisfied: beautifulsoup4 in /usr/local/lib/python3.10/dist-packages (4.12.3)\n",
            "Requirement already satisfied: pandas in /usr/local/lib/python3.10/dist-packages (2.2.2)\n",
            "Requirement already satisfied: charset-normalizer<4,>=2 in /usr/local/lib/python3.10/dist-packages (from requests) (3.4.1)\n",
            "Requirement already satisfied: idna<4,>=2.5 in /usr/local/lib/python3.10/dist-packages (from requests) (3.10)\n",
            "Requirement already satisfied: urllib3<3,>=1.21.1 in /usr/local/lib/python3.10/dist-packages (from requests) (2.3.0)\n",
            "Requirement already satisfied: certifi>=2017.4.17 in /usr/local/lib/python3.10/dist-packages (from requests) (2024.12.14)\n",
            "Requirement already satisfied: soupsieve>1.2 in /usr/local/lib/python3.10/dist-packages (from beautifulsoup4) (2.6)\n",
            "Requirement already satisfied: numpy>=1.22.4 in /usr/local/lib/python3.10/dist-packages (from pandas) (1.26.4)\n",
            "Requirement already satisfied: python-dateutil>=2.8.2 in /usr/local/lib/python3.10/dist-packages (from pandas) (2.8.2)\n",
            "Requirement already satisfied: pytz>=2020.1 in /usr/local/lib/python3.10/dist-packages (from pandas) (2024.2)\n",
            "Requirement already satisfied: tzdata>=2022.7 in /usr/local/lib/python3.10/dist-packages (from pandas) (2024.2)\n",
            "Requirement already satisfied: six>=1.5 in /usr/local/lib/python3.10/dist-packages (from python-dateutil>=2.8.2->pandas) (1.17.0)\n"
          ]
        }
      ],
      "source": [
        "pip install requests beautifulsoup4 pandas\n"
      ]
    },
    {
      "cell_type": "code",
      "source": [
        "import requests\n",
        "from bs4 import BeautifulSoup\n",
        "import pandas as pd\n",
        "import csv\n",
        "# URL of the news website\n",
        "url = \"https://www.bbc.com/news\"\n",
        "\n",
        "# Send HTTP GET request to fetch the page content\n",
        "response = requests.get(url)\n",
        "\n",
        "# Check if the request was successful\n",
        "if response.status_code == 200:\n",
        "    print(\"Page fetched successfully!\")\n",
        "else:\n",
        "    print(f\"Failed to retrieve the page. Status code: {response.status_code}\")\n",
        "# Parse the HTML content of the page using BeautifulSoup\n",
        "soup = BeautifulSoup(response.content, \"html.parser\")\n",
        "\n",
        "# Display the parsed HTML (for debugging)\n",
        "# print(soup.prettify())  # Uncomment to see the structure of the page\n",
        "# Find all anchor tags with class 'gs-c-promo-heading' (headlines)\n",
        "headlines = soup.find_all('a', class_='gs-c-promo-heading')\n",
        "\n",
        "# Extract the text (headlines) and URLs from the found tags\n",
        "news_data = []\n",
        "for headline in headlines:\n",
        "    headline_text = headline.get_text(strip=True)\n",
        "    headline_url = headline.get('href')\n",
        "\n",
        "    # Ensure that the URL is absolute\n",
        "    if headline_url.startswith(\"/\"):\n",
        "        headline_url = \"https://www.bbc.com\" + headline_url\n",
        "\n",
        "    # Append the headline and URL to the data list\n",
        "    if headline_text:\n",
        "        news_data.append([headline_text, headline_url])\n",
        "# Define CSV file name\n",
        "csv_filename = \"bbc_news_headlines.csv\"\n",
        "\n",
        "# Write the extracted headlines to a CSV file\n",
        "with open(csv_filename, mode='w', newline='', encoding='utf-8') as file:\n",
        "    writer = csv.writer(file)\n",
        "    writer.writerow([\"Headline\", \"URL\"])  # Write the header\n",
        "    writer.writerows(news_data)  # Write the extracted news data\n",
        "\n",
        "print(f\"Headlines saved to {csv_filename}\")\n",
        "# Convert the news data to a pandas DataFrame\n",
        "df = pd.DataFrame(news_data, columns=[\"Headline\", \"URL\"])\n",
        "\n",
        "# Display the DataFrame (top 5 rows)\n",
        "print(df.head())\n",
        "\n",
        "# Optionally, save the DataFrame to a CSV file\n",
        "df.to_csv(\"bbc_news_headlines_pandas.csv\", index=False)\n",
        "\n"
      ],
      "metadata": {
        "colab": {
          "base_uri": "https://localhost:8080/"
        },
        "id": "no5X4Oh-C48C",
        "outputId": "60a708b4-12be-4b94-cfcf-8dc8f7c74832"
      },
      "execution_count": 3,
      "outputs": [
        {
          "output_type": "stream",
          "name": "stdout",
          "text": [
            "Page fetched successfully!\n",
            "Headlines saved to bbc_news_headlines.csv\n",
            "Empty DataFrame\n",
            "Columns: [Headline, URL]\n",
            "Index: []\n"
          ]
        }
      ]
    },
    {
      "cell_type": "code",
      "source": [
        "import requests\n",
        "from bs4 import BeautifulSoup\n",
        "import pandas as pd\n",
        "import csv\n",
        "\n",
        "# URL of the news website\n",
        "url = \"https://www.bbc.com/news\"\n",
        "\n",
        "# Send HTTP GET request to fetch the page content\n",
        "response = requests.get(url)\n",
        "\n",
        "# Check if the request was successful\n",
        "if response.status_code == 200:\n",
        "    print(\"Page fetched successfully!\")\n",
        "else:\n",
        "    print(f\"Failed to retrieve the page. Status code: {response.status_code}\")\n",
        "\n",
        "# Parse the HTML content of the page using BeautifulSoup\n",
        "soup = BeautifulSoup(response.content, \"html.parser\")\n",
        "\n",
        "# Find all anchor tags with class 'gs-c-promo-heading' (headlines)\n",
        "headlines = soup.find_all('a', class_='gs-c-promo-heading')\n",
        "\n",
        "# Extract the text (headlines) and URLs from the found tags\n",
        "news_data = []\n",
        "for headline in headlines:\n",
        "    headline_text = headline.get_text(strip=True)\n",
        "    headline_url = headline.get('href')\n",
        "\n",
        "    # Ensure that the URL is absolute\n",
        "    if headline_url.startswith(\"/\"):\n",
        "        headline_url = \"https://www.bbc.com\" + headline_url\n",
        "\n",
        "    # Append the headline and URL to the data list\n",
        "    if headline_text:\n",
        "        news_data.append([headline_text, headline_url])\n",
        "\n",
        "# Define CSV file name\n",
        "csv_filename = \"bbc_news_headlines.csv\"\n",
        "\n",
        "# Write the extracted headlines to a CSV file\n",
        "with open(csv_filename, mode='w', newline='', encoding='utf-8') as file:\n",
        "    writer = csv.writer(file)\n",
        "    writer.writerow([\"Headline\", \"URL\"])  # Write the header\n",
        "    writer.writerows(news_data)  # Write the extracted news data\n",
        "\n",
        "print(f\"Headlines saved to {csv_filename}\")\n",
        "\n",
        "# Read the entire contents of the CSV and print it\n",
        "with open(csv_filename, mode='r', encoding='utf-8') as file:\n",
        "    csv_reader = csv.reader(file)\n",
        "    for row in csv_reader:\n",
        "        print(row)  # Print each row of the CSV file\n"
      ],
      "metadata": {
        "colab": {
          "base_uri": "https://localhost:8080/"
        },
        "id": "SdPFAI6GDtcj",
        "outputId": "409a46a5-74aa-466d-9276-0d45b62ba276"
      },
      "execution_count": 4,
      "outputs": [
        {
          "output_type": "stream",
          "name": "stdout",
          "text": [
            "Page fetched successfully!\n",
            "Headlines saved to bbc_news_headlines.csv\n",
            "['Headline', 'URL']\n"
          ]
        }
      ]
    }
  ]
}
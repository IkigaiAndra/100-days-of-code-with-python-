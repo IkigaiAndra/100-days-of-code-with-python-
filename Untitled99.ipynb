{
  "nbformat": 4,
  "nbformat_minor": 0,
  "metadata": {
    "colab": {
      "provenance": []
    },
    "kernelspec": {
      "name": "python3",
      "display_name": "Python 3"
    },
    "language_info": {
      "name": "python"
    }
  },
  "cells": [
    {
      "cell_type": "code",
      "execution_count": 1,
      "metadata": {
        "colab": {
          "base_uri": "https://localhost:8080/"
        },
        "id": "XtE9oviWpN4s",
        "outputId": "3d286f04-137e-4f1c-87fc-57a50183f93a"
      },
      "outputs": [
        {
          "output_type": "stream",
          "name": "stdout",
          "text": [
            "Collecting reportlab\n",
            "  Downloading reportlab-4.2.5-py3-none-any.whl.metadata (1.5 kB)\n",
            "Collecting python-docx\n",
            "  Downloading python_docx-1.1.2-py3-none-any.whl.metadata (2.0 kB)\n",
            "Requirement already satisfied: pillow in /usr/local/lib/python3.10/dist-packages (11.1.0)\n",
            "Collecting fpdf\n",
            "  Downloading fpdf-1.7.2.tar.gz (39 kB)\n",
            "  Preparing metadata (setup.py) ... \u001b[?25l\u001b[?25hdone\n",
            "Requirement already satisfied: chardet in /usr/local/lib/python3.10/dist-packages (from reportlab) (5.2.0)\n",
            "Requirement already satisfied: lxml>=3.1.0 in /usr/local/lib/python3.10/dist-packages (from python-docx) (5.3.0)\n",
            "Requirement already satisfied: typing-extensions>=4.9.0 in /usr/local/lib/python3.10/dist-packages (from python-docx) (4.12.2)\n",
            "Downloading reportlab-4.2.5-py3-none-any.whl (1.9 MB)\n",
            "\u001b[2K   \u001b[90m━━━━━━━━━━━━━━━━━━━━━━━━━━━━━━━━━━━━━━━━\u001b[0m \u001b[32m1.9/1.9 MB\u001b[0m \u001b[31m22.0 MB/s\u001b[0m eta \u001b[36m0:00:00\u001b[0m\n",
            "\u001b[?25hDownloading python_docx-1.1.2-py3-none-any.whl (244 kB)\n",
            "\u001b[2K   \u001b[90m━━━━━━━━━━━━━━━━━━━━━━━━━━━━━━━━━━━━━━━━\u001b[0m \u001b[32m244.3/244.3 kB\u001b[0m \u001b[31m17.1 MB/s\u001b[0m eta \u001b[36m0:00:00\u001b[0m\n",
            "\u001b[?25hBuilding wheels for collected packages: fpdf\n",
            "  Building wheel for fpdf (setup.py) ... \u001b[?25l\u001b[?25hdone\n",
            "  Created wheel for fpdf: filename=fpdf-1.7.2-py2.py3-none-any.whl size=40704 sha256=5554ce52ae4481464e5e90ad5edefdc4d25e48044bd94fa1ef06062d81999039\n",
            "  Stored in directory: /root/.cache/pip/wheels/f9/95/ba/f418094659025eb9611f17cbcaf2334236bf39a0c3453ea455\n",
            "Successfully built fpdf\n",
            "Installing collected packages: fpdf, reportlab, python-docx\n",
            "Successfully installed fpdf-1.7.2 python-docx-1.1.2 reportlab-4.2.5\n"
          ]
        }
      ],
      "source": [
        "pip install reportlab python-docx pillow fpdf\n"
      ]
    },
    {
      "cell_type": "code",
      "source": [
        "import os\n",
        "from fpdf import FPDF\n",
        "from PIL import Image\n",
        "from docx import Document\n",
        "\n",
        "# Function to convert .txt file to PDF\n",
        "def txt_to_pdf(txt_file, output_pdf):\n",
        "    pdf = FPDF()\n",
        "    pdf.add_page()\n",
        "    pdf.set_font(\"Arial\", size=12)\n",
        "\n",
        "    with open(txt_file, \"r\") as file:\n",
        "        for line in file:\n",
        "            pdf.multi_cell(0, 10, line)\n",
        "\n",
        "    pdf.output(output_pdf)\n",
        "    print(f\"TXT file {txt_file} has been converted to PDF: {output_pdf}\")\n",
        "\n",
        "# Function to convert .jpg or .png file to PDF\n",
        "def image_to_pdf(image_file, output_pdf):\n",
        "    image = Image.open(image_file)\n",
        "    image.convert(\"RGB\")\n",
        "    pdf_path = output_pdf\n",
        "    image.save(pdf_path)\n",
        "    print(f\"Image file {image_file} has been converted to PDF: {output_pdf}\")\n",
        "\n",
        "# Function to convert .docx file to PDF\n",
        "def docx_to_pdf(docx_file, output_pdf):\n",
        "    document = Document(docx_file)\n",
        "    pdf = FPDF()\n",
        "    pdf.add_page()\n",
        "    pdf.set_font(\"Arial\", size=12)\n",
        "\n",
        "    for para in document.paragraphs:\n",
        "        pdf.multi_cell(0, 10, para.text)\n",
        "\n",
        "    pdf.output(output_pdf)\n",
        "    print(f\"DOCX file {docx_file} has been converted to PDF: {output_pdf}\")\n",
        "\n",
        "# Function to handle conversion of different formats\n",
        "def convert_file_to_pdf(input_file, output_pdf):\n",
        "    file_extension = input_file.split('.')[-1].lower()\n",
        "\n",
        "    if file_extension == 'txt':\n",
        "        txt_to_pdf(input_file, output_pdf)\n",
        "    elif file_extension in ['jpg', 'jpeg', 'png']:\n",
        "        image_to_pdf(input_file, output_pdf)\n",
        "    elif file_extension == 'docx':\n",
        "        docx_to_pdf(input_file, output_pdf)\n",
        "    else:\n",
        "        print(\"Unsupported file format for conversion.\")\n",
        "\n",
        "# Example usage:\n",
        "if __name__ == \"__main__\":\n",
        "    input_file = input(\"Enter the input file path (e.g., 'document.txt', 'image.jpg', 'file.docx'): \")\n",
        "    output_pdf = input(\"Enter the output PDF file path (e.g., 'output.pdf'): \")\n",
        "\n",
        "    if os.path.exists(input_file):\n",
        "        convert_file_to_pdf(input_file, output_pdf)\n",
        "    else:\n",
        "        print(f\"File {input_file} not found. Please check the file path.\")\n"
      ],
      "metadata": {
        "colab": {
          "base_uri": "https://localhost:8080/"
        },
        "id": "8Ik8hyiepal2",
        "outputId": "f3dcc778-b9db-4455-f540-6ba7dd87f56f"
      },
      "execution_count": 3,
      "outputs": [
        {
          "output_type": "stream",
          "name": "stdout",
          "text": [
            "Enter the input file path (e.g., 'document.txt', 'image.jpg', 'file.docx'): /content/WIN_20241224_14_11_19_Pro.jpg\n",
            "Enter the output PDF file path (e.g., 'output.pdf'): output.pdf\n",
            "Image file /content/WIN_20241224_14_11_19_Pro.jpg has been converted to PDF: output.pdf\n"
          ]
        }
      ]
    }
  ]
}
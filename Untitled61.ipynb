{
  "nbformat": 4,
  "nbformat_minor": 0,
  "metadata": {
    "colab": {
      "provenance": []
    },
    "kernelspec": {
      "name": "python3",
      "display_name": "Python 3"
    },
    "language_info": {
      "name": "python"
    }
  },
  "cells": [
    {
      "cell_type": "code",
      "execution_count": 1,
      "metadata": {
        "colab": {
          "base_uri": "https://localhost:8080/"
        },
        "id": "X07ZjmHwj0Io",
        "outputId": "3de0cdb7-4641-4fc6-c45e-306e8c9f368d"
      },
      "outputs": [
        {
          "output_type": "stream",
          "name": "stdout",
          "text": [
            "Collecting gTTS\n",
            "  Downloading gTTS-2.5.4-py3-none-any.whl.metadata (4.1 kB)\n",
            "Requirement already satisfied: requests<3,>=2.27 in /usr/local/lib/python3.10/dist-packages (from gTTS) (2.32.3)\n",
            "Requirement already satisfied: click<8.2,>=7.1 in /usr/local/lib/python3.10/dist-packages (from gTTS) (8.1.8)\n",
            "Requirement already satisfied: charset-normalizer<4,>=2 in /usr/local/lib/python3.10/dist-packages (from requests<3,>=2.27->gTTS) (3.4.1)\n",
            "Requirement already satisfied: idna<4,>=2.5 in /usr/local/lib/python3.10/dist-packages (from requests<3,>=2.27->gTTS) (3.10)\n",
            "Requirement already satisfied: urllib3<3,>=1.21.1 in /usr/local/lib/python3.10/dist-packages (from requests<3,>=2.27->gTTS) (2.3.0)\n",
            "Requirement already satisfied: certifi>=2017.4.17 in /usr/local/lib/python3.10/dist-packages (from requests<3,>=2.27->gTTS) (2024.12.14)\n",
            "Downloading gTTS-2.5.4-py3-none-any.whl (29 kB)\n",
            "Installing collected packages: gTTS\n",
            "Successfully installed gTTS-2.5.4\n"
          ]
        }
      ],
      "source": [
        "!pip install gTTS\n"
      ]
    },
    {
      "cell_type": "code",
      "source": [
        "from gtts import gTTS\n",
        "import IPython.display as ipd\n",
        "\n",
        "# Function to convert text to speech\n",
        "def text_to_speech(text, language='en'):\n",
        "    # Convert the given text to speech\n",
        "    tts = gTTS(text=text, lang=language, slow=False)  # slow=False means speech will be fast\n",
        "    # Save the speech as an audio file\n",
        "    tts.save(\"output.mp3\")\n",
        "\n",
        "    # Display the audio in the notebook\n",
        "    print(\"Speech generated successfully!\")\n",
        "    return ipd.Audio(\"output.mp3\")\n",
        "\n",
        "# Example usage\n",
        "text = \"Hello! HI HOW ARE U.\"\n",
        "\n",
        "language = \"en\"  # You can change to another language code, like \"es\" for Spanish\n",
        "\n",
        "# Call the function and play the audio\n",
        "audio = text_to_speech(text, language)\n",
        "audio\n"
      ],
      "metadata": {
        "colab": {
          "base_uri": "https://localhost:8080/",
          "height": 93
        },
        "id": "fs8Q3C5wkPdD",
        "outputId": "9ecc9505-3433-40d8-ba68-1dd90bc8b2a8"
      },
      "execution_count": 6,
      "outputs": [
        {
          "output_type": "stream",
          "name": "stdout",
          "text": [
            "Speech generated successfully!\n"
          ]
        },
        {
          "output_type": "execute_result",
          "data": {
            "text/plain": [
              "<IPython.lib.display.Audio object>"
            ],
            "text/html": [
              "\n",
              "                <audio  controls=\"controls\" >\n",
              "                    <source src=\"data:audio/mpeg;base64,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\" type=\"audio/mpeg\" />\n",
              "                    Your browser does not support the audio element.\n",
              "                </audio>\n",
              "              "
            ]
          },
          "metadata": {},
          "execution_count": 6
        }
      ]
    },
    {
      "cell_type": "markdown",
      "source": [
        "SAVE AND DOWNLOAD AUDIO"
      ],
      "metadata": {
        "id": "Qxirbg7_llO5"
      }
    },
    {
      "cell_type": "code",
      "source": [
        "from google.colab import files\n",
        "\n",
        "# Download the audio file\n",
        "files.download(\"output.mp3\")\n"
      ],
      "metadata": {
        "colab": {
          "base_uri": "https://localhost:8080/",
          "height": 17
        },
        "id": "C9JOqxjslZeS",
        "outputId": "05bf2f3d-9136-4a7a-822a-264ddda61294"
      },
      "execution_count": 7,
      "outputs": [
        {
          "output_type": "display_data",
          "data": {
            "text/plain": [
              "<IPython.core.display.Javascript object>"
            ],
            "application/javascript": [
              "\n",
              "    async function download(id, filename, size) {\n",
              "      if (!google.colab.kernel.accessAllowed) {\n",
              "        return;\n",
              "      }\n",
              "      const div = document.createElement('div');\n",
              "      const label = document.createElement('label');\n",
              "      label.textContent = `Downloading \"${filename}\": `;\n",
              "      div.appendChild(label);\n",
              "      const progress = document.createElement('progress');\n",
              "      progress.max = size;\n",
              "      div.appendChild(progress);\n",
              "      document.body.appendChild(div);\n",
              "\n",
              "      const buffers = [];\n",
              "      let downloaded = 0;\n",
              "\n",
              "      const channel = await google.colab.kernel.comms.open(id);\n",
              "      // Send a message to notify the kernel that we're ready.\n",
              "      channel.send({})\n",
              "\n",
              "      for await (const message of channel.messages) {\n",
              "        // Send a message to notify the kernel that we're ready.\n",
              "        channel.send({})\n",
              "        if (message.buffers) {\n",
              "          for (const buffer of message.buffers) {\n",
              "            buffers.push(buffer);\n",
              "            downloaded += buffer.byteLength;\n",
              "            progress.value = downloaded;\n",
              "          }\n",
              "        }\n",
              "      }\n",
              "      const blob = new Blob(buffers, {type: 'application/binary'});\n",
              "      const a = document.createElement('a');\n",
              "      a.href = window.URL.createObjectURL(blob);\n",
              "      a.download = filename;\n",
              "      div.appendChild(a);\n",
              "      a.click();\n",
              "      div.remove();\n",
              "    }\n",
              "  "
            ]
          },
          "metadata": {}
        },
        {
          "output_type": "display_data",
          "data": {
            "text/plain": [
              "<IPython.core.display.Javascript object>"
            ],
            "application/javascript": [
              "download(\"download_915d011c-2e3c-4351-a69a-d3e6bfdc01c3\", \"output.mp3\", 17472)"
            ]
          },
          "metadata": {}
        }
      ]
    }
  ]
}
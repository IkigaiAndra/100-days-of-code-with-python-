{
  "nbformat": 4,
  "nbformat_minor": 0,
  "metadata": {
    "colab": {
      "provenance": []
    },
    "kernelspec": {
      "name": "python3",
      "display_name": "Python 3"
    },
    "language_info": {
      "name": "python"
    }
  },
  "cells": [
    {
      "cell_type": "code",
      "execution_count": 1,
      "metadata": {
        "colab": {
          "base_uri": "https://localhost:8080/"
        },
        "id": "DorP6pLT8SY-",
        "outputId": "5bcbba32-4620-487b-f9dc-11129cb1837d"
      },
      "outputs": [
        {
          "output_type": "stream",
          "name": "stdout",
          "text": [
            "Enter a year: 1999\n",
            "1999 is not a Leap Year!\n"
          ]
        }
      ],
      "source": [
        "# Function to check if a year is a leap year\n",
        "def is_leap_year(year):\n",
        "    if (year % 4 == 0 and year % 100 != 0) or (year % 400 == 0):\n",
        "        return True\n",
        "    else:\n",
        "        return False\n",
        "\n",
        "# Main function\n",
        "def main():\n",
        "    # Get the year input from the user\n",
        "    try:\n",
        "        year = int(input(\"Enter a year: \"))\n",
        "\n",
        "        # Check if the entered year is a leap year\n",
        "        if is_leap_year(year):\n",
        "            print(f\"{year} is a Leap Year!\")\n",
        "        else:\n",
        "            print(f\"{year} is not a Leap Year!\")\n",
        "    except ValueError:\n",
        "        print(\"Invalid input. Please enter a valid integer year.\")\n",
        "\n",
        "# Run the main function\n",
        "if __name__ == \"__main__\":\n",
        "    main()\n"
      ]
    }
  ]
}
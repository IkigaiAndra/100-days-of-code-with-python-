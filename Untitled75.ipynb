{
  "nbformat": 4,
  "nbformat_minor": 0,
  "metadata": {
    "colab": {
      "provenance": []
    },
    "kernelspec": {
      "name": "python3",
      "display_name": "Python 3"
    },
    "language_info": {
      "name": "python"
    }
  },
  "cells": [
    {
      "cell_type": "code",
      "execution_count": 1,
      "metadata": {
        "colab": {
          "base_uri": "https://localhost:8080/"
        },
        "id": "wv7y6ItcGBbJ",
        "outputId": "1377db00-24e0-433b-dca3-999fb1d12eda"
      },
      "outputs": [
        {
          "output_type": "stream",
          "name": "stdout",
          "text": [
            "Squares: [0, 1, 4, 9, 16]\n",
            "Evens: [0, 2, 4, 6, 8]\n",
            "Uppercase Words: ['HELLO', 'WORLD', 'PYTHON']\n",
            "Flattened Matrix: [1, 2, 3, 4, 5, 6, 7, 8, 9]\n",
            "Even Squares Above 2: [16, 36, 64]\n",
            "Doubled Numbers: [0, 2, 4, 6, 8]\n",
            "Keys: ['a', 'b', 'c']\n",
            "Values: [1, 2, 3]\n",
            "First Elements of Tuples: [1, 2, 3]\n",
            "Unique Elements: [1, 2, 3, 4, 5]\n",
            "Names with Length > 4: ['Alice', 'Charlie', 'David']\n",
            "Names of People: ['Alice', 'Bob', 'Charlie']\n",
            "Numbers with Conditional Expression: [0, -1, 2, -3, 4, -5, 6, -7, 8, -9]\n"
          ]
        }
      ],
      "source": [
        "# 1. Basic List Comprehension: Creating a list of squares\n",
        "squares = [x**2 for x in range(5)]\n",
        "print(\"Squares:\", squares)  # Output: [0, 1, 4, 9, 16]\n",
        "\n",
        "# 2. List Comprehension with Conditional Filtering: Creating a list of even numbers\n",
        "evens = [x for x in range(10) if x % 2 == 0]\n",
        "print(\"Evens:\", evens)  # Output: [0, 2, 4, 6, 8]\n",
        "\n",
        "# 3. List Comprehension with String Manipulation: Creating a list of uppercase strings\n",
        "words = ['hello', 'world', 'python']\n",
        "upper_words = [word.upper() for word in words]\n",
        "print(\"Uppercase Words:\", upper_words)  # Output: ['HELLO', 'WORLD', 'PYTHON']\n",
        "\n",
        "# 4. List Comprehension with Nested Loops: Flattening a 2D list\n",
        "matrix = [[1, 2, 3], [4, 5, 6], [7, 8, 9]]\n",
        "flattened = [item for sublist in matrix for item in sublist]\n",
        "print(\"Flattened Matrix:\", flattened)  # Output: [1, 2, 3, 4, 5, 6, 7, 8, 9]\n",
        "\n",
        "# 5. List Comprehension with Multiple Conditions: Squaring even numbers greater than 2\n",
        "even_squares_above_2 = [x**2 for x in range(10) if x % 2 == 0 and x > 2]\n",
        "print(\"Even Squares Above 2:\", even_squares_above_2)  # Output: [16, 36, 64]\n",
        "\n",
        "# 6. List Comprehension with Functions: Doubling each number in a list\n",
        "def double(x):\n",
        "    return x * 2\n",
        "\n",
        "doubled_numbers = [double(x) for x in range(5)]\n",
        "print(\"Doubled Numbers:\", doubled_numbers)  # Output: [0, 2, 4, 6, 8]\n",
        "\n",
        "# 7. List Comprehension with Dictionary: Extracting keys from a dictionary\n",
        "data = {'a': 1, 'b': 2, 'c': 3}\n",
        "keys = [key for key in data]\n",
        "print(\"Keys:\", keys)  # Output: ['a', 'b', 'c']\n",
        "\n",
        "# 8. List Comprehension with Dictionary: Extracting values from a dictionary\n",
        "values = [value for value in data.values()]\n",
        "print(\"Values:\", values)  # Output: [1, 2, 3]\n",
        "\n",
        "# 9. List Comprehension with Tuple: Creating a list of first elements from a list of tuples\n",
        "tuple_list = [(1, 'one'), (2, 'two'), (3, 'three')]\n",
        "first_elements = [t[0] for t in tuple_list]\n",
        "print(\"First Elements of Tuples:\", first_elements)  # Output: [1, 2, 3]\n",
        "\n",
        "# 10. List Comprehension with Set: Removing duplicates from a list\n",
        "duplicates = [1, 2, 2, 3, 4, 4, 5]\n",
        "unique_elements = list({x for x in duplicates})\n",
        "print(\"Unique Elements:\", unique_elements)  # Output: [1, 2, 3, 4, 5]\n",
        "\n",
        "# 11. List Comprehension with String Manipulation: Creating a list of strings with length greater than 4\n",
        "names = ['Alice', 'Bob', 'Charlie', 'David']\n",
        "long_names = [name for name in names if len(name) > 4]\n",
        "print(\"Names with Length > 4:\", long_names)  # Output: ['Alice', 'Charlie', 'David']\n",
        "\n",
        "# 12. List Comprehension with Object Attributes: Extracting attribute values from a list of objects\n",
        "class Person:\n",
        "    def __init__(self, name, age):\n",
        "        self.name = name\n",
        "        self.age = age\n",
        "\n",
        "people = [Person(\"Alice\", 30), Person(\"Bob\", 25), Person(\"Charlie\", 35)]\n",
        "names = [person.name for person in people]\n",
        "print(\"Names of People:\", names)  # Output: ['Alice', 'Bob', 'Charlie']\n",
        "\n",
        "# 13. List Comprehension with Range and Conditional Expressions: Generating a list with a conditional expression\n",
        "numbers = [x if x % 2 == 0 else -x for x in range(10)]\n",
        "print(\"Numbers with Conditional Expression:\", numbers)  # Output: [0, -1, 2, -3, 4, -5, 6, -7, 8, -9]\n"
      ]
    }
  ]
}
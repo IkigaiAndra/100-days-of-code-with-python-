{
  "nbformat": 4,
  "nbformat_minor": 0,
  "metadata": {
    "colab": {
      "provenance": []
    },
    "kernelspec": {
      "name": "python3",
      "display_name": "Python 3"
    },
    "language_info": {
      "name": "python"
    }
  },
  "cells": [
    {
      "cell_type": "code",
      "execution_count": null,
      "metadata": {
        "colab": {
          "base_uri": "https://localhost:8080/"
        },
        "id": "eix9BncvCGKg",
        "outputId": "488f23d7-7aa0-4576-a4e6-f70805ea91f4"
      },
      "outputs": [
        {
          "output_type": "stream",
          "name": "stdout",
          "text": [
            "Welcome to the Tip Calculator!\n"
          ]
        }
      ],
      "source": [
        "# Tip Calculator Project in Python\n",
        "\n",
        "def calculate_tip():\n",
        "    print(\"Welcome to the Tip Calculator!\")\n",
        "\n",
        "    # Step 1: Get user input for the total bill, tip percentage, and number of people\n",
        "    try:\n",
        "        bill_amount = float(input(\"Enter the total bill amount ($): \"))\n",
        "        tip_percentage = float(input(\"Enter the tip percentage (e.g., 15 for 15%): \"))\n",
        "        num_people = int(input(\"Enter the number of people to split the bill: \"))\n",
        "\n",
        "        # Validate inputs\n",
        "        if bill_amount < 0 or tip_percentage < 0 or num_people <= 0:\n",
        "            print(\"Invalid input! Bill amount, tip percentage, and number of people must be positive.\")\n",
        "            return\n",
        "\n",
        "        # Step 2: Calculate the tip and the total amount including the tip\n",
        "        tip_amount = (bill_amount * tip_percentage) / 100\n",
        "        total_amount = bill_amount + tip_amount\n",
        "\n",
        "        # Step 3: Calculate how much each person needs to pay\n",
        "        amount_per_person = total_amount / num_people\n",
        "\n",
        "        # Step 4: Display the results\n",
        "        print(\"\\n--- Calculation Results ---\")\n",
        "        print(f\"Total Bill: ${bill_amount:.2f}\")\n",
        "        print(f\"Tip Amount ({tip_percentage}%): ${tip_amount:.2f}\")\n",
        "        print(f\"Total Amount (including tip): ${total_amount:.2f}\")\n",
        "        print(f\"Each person should pay: ${amount_per_person:.2f}\")\n",
        "\n",
        "    except ValueError:\n",
        "        print(\"Invalid input! Please enter numerical values.\")\n",
        "\n",
        "# Run the calculator function\n",
        "if __name__ == \"__main__\":\n",
        "    calculate_tip()\n"
      ]
    }
  ]
}
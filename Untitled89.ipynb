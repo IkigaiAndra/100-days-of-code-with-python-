{
  "nbformat": 4,
  "nbformat_minor": 0,
  "metadata": {
    "colab": {
      "provenance": []
    },
    "kernelspec": {
      "name": "python3",
      "display_name": "Python 3"
    },
    "language_info": {
      "name": "python"
    }
  },
  "cells": [
    {
      "cell_type": "code",
      "execution_count": 1,
      "metadata": {
        "colab": {
          "base_uri": "https://localhost:8080/"
        },
        "id": "1-VCO3wV-UGq",
        "outputId": "3eb81df9-4b12-48dc-8d86-bc88dc89b803"
      },
      "outputs": [
        {
          "output_type": "stream",
          "name": "stdout",
          "text": [
            "Welcome to the Number Guessing Game!\n",
            "I'm thinking of a number between 1 and 100.\n",
            "Enter your guess: 69\n",
            "Too high! Try again.\n",
            "Enter your guess: 45\n",
            "Too high! Try again.\n",
            "Enter your guess: 23\n",
            "Too low! Try again.\n",
            "Enter your guess: 36\n",
            "Too low! Try again.\n",
            "Enter your guess: 40\n",
            "Too low! Try again.\n",
            "Enter your guess: 42\n",
            "Too high! Try again.\n",
            "Enter your guess: 41\n",
            "Congratulations! You've guessed the number in 7 attempts!\n",
            "Do you want to play again? (y/n): n\n",
            "Thanks for playing! Goodbye!\n"
          ]
        }
      ],
      "source": [
        "import random\n",
        "\n",
        "# 1. Print Statement\n",
        "print(\"Welcome to the Number Guessing Game!\")\n",
        "print(\"I'm thinking of a number between 1 and 100.\")\n",
        "\n",
        "# 2. User Input\n",
        "def get_user_guess():\n",
        "    while True:\n",
        "        try:\n",
        "            guess = int(input(\"Enter your guess: \"))  # 3. Input Statement\n",
        "            if guess < 1 or guess > 100:\n",
        "                raise ValueError(\"Please enter a number between 1 and 100.\")\n",
        "            return guess\n",
        "        except ValueError as ve:  # 4. Exception Handling\n",
        "            print(f\"Invalid input! {ve}\")\n",
        "        except Exception as e:  # 5. Generic Exception Handling\n",
        "            print(f\"An error occurred: {e}\")\n",
        "\n",
        "# 6. Function to Start the Game\n",
        "def start_game():\n",
        "    secret_number = random.randint(1, 100)  # 7. Random Number\n",
        "    attempts = 0  # 8. Variable Declaration\n",
        "\n",
        "    while True:\n",
        "        guess = get_user_guess()  # 9. Function Call\n",
        "\n",
        "        attempts += 1  # 10. Increment Statement\n",
        "\n",
        "        # 11. If-Else Conditional\n",
        "        if guess < secret_number:\n",
        "            print(\"Too low! Try again.\")\n",
        "        elif guess > secret_number:\n",
        "            print(\"Too high! Try again.\")\n",
        "        else:\n",
        "            print(f\"Congratulations! You've guessed the number in {attempts} attempts!\")\n",
        "            break  # 12. Break Statement\n",
        "\n",
        "        # 13. Continue Statement\n",
        "        if attempts >= 10:  # Limiting number of attempts\n",
        "            print(\"Sorry, you've reached the maximum attempts.\")\n",
        "            break\n",
        "\n",
        "# 14. While Loop to Play Again\n",
        "def play_again():\n",
        "    while True:\n",
        "        user_input = input(\"Do you want to play again? (y/n): \").lower()  # 15. String Methods\n",
        "        if user_input == 'y':  # 16. Comparison\n",
        "            start_game()  # 17. Function Call\n",
        "        elif user_input == 'n':  # 18. If-Else Condition\n",
        "            print(\"Thanks for playing! Goodbye!\")\n",
        "            break  # 19. Break Statement\n",
        "        else:\n",
        "            print(\"Invalid input. Please enter 'y' or 'n'.\")  # 20. Print Statement\n",
        "\n",
        "# 21. Main Function to Run the Game\n",
        "def main():\n",
        "    start_game()  # 22. Function Call\n",
        "    play_again()  # 23. Function Call\n",
        "\n",
        "# 24. Python's Entry Point to Start Execution\n",
        "if __name__ == \"__main__\":\n",
        "    main()  # 25. Function Call\n"
      ]
    }
  ]
}
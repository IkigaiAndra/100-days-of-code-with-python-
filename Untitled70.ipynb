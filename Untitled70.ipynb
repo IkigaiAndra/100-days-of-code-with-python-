{
  "nbformat": 4,
  "nbformat_minor": 0,
  "metadata": {
    "colab": {
      "provenance": []
    },
    "kernelspec": {
      "name": "python3",
      "display_name": "Python 3"
    },
    "language_info": {
      "name": "python"
    }
  },
  "cells": [
    {
      "cell_type": "code",
      "execution_count": 1,
      "metadata": {
        "colab": {
          "base_uri": "https://localhost:8080/"
        },
        "id": "NdGQq0iN_L8s",
        "outputId": "bd259905-7dfb-498d-ac5c-bce0e1c68270"
      },
      "outputs": [
        {
          "output_type": "stream",
          "name": "stdout",
          "text": [
            "Element at row 1, column 2: 6\n",
            "Element at row 3, column 1: 7\n",
            "Name of person1: Alice\n",
            "City of person2: Los Angeles\n",
            "First fruit in tuple 1: apple\n",
            "Second fruit in tuple 2: kiwi\n",
            "First fruit: apple\n",
            "Second vegetable: tomato\n"
          ]
        }
      ],
      "source": [
        "# Nested List Example\n",
        "nested_list = [\n",
        "    [1, 2, 3],  # List within a list\n",
        "    [4, 5, 6],\n",
        "    [7, 8, 9]\n",
        "]\n",
        "\n",
        "# Accessing elements in a nested list\n",
        "print(\"Element at row 1, column 2:\", nested_list[1][2])  # Output: 6\n",
        "print(\"Element at row 3, column 1:\", nested_list[2][0])  # Output: 7\n",
        "\n",
        "# Nested Dictionary Example\n",
        "nested_dict = {\n",
        "    \"person1\": {\n",
        "        \"name\": \"Alice\",\n",
        "        \"age\": 25,\n",
        "        \"address\": {\n",
        "            \"street\": \"123 Main St\",\n",
        "            \"city\": \"New York\"\n",
        "        }\n",
        "    },\n",
        "    \"person2\": {\n",
        "        \"name\": \"Bob\",\n",
        "        \"age\": 30,\n",
        "        \"address\": {\n",
        "            \"street\": \"456 Elm St\",\n",
        "            \"city\": \"Los Angeles\"\n",
        "        }\n",
        "    }\n",
        "}\n",
        "\n",
        "# Accessing values in a nested dictionary\n",
        "print(\"Name of person1:\", nested_dict[\"person1\"][\"name\"])  # Output: Alice\n",
        "print(\"City of person2:\", nested_dict[\"person2\"][\"address\"][\"city\"])  # Output: Los Angeles\n",
        "\n",
        "# Nested Tuple Example\n",
        "nested_tuple = (\n",
        "    (\"apple\", \"banana\", \"cherry\"),  # Tuple within a tuple\n",
        "    (\"orange\", \"kiwi\", \"pear\")\n",
        ")\n",
        "\n",
        "# Accessing elements in a nested tuple\n",
        "print(\"First fruit in tuple 1:\", nested_tuple[0][0])  # Output: apple\n",
        "print(\"Second fruit in tuple 2:\", nested_tuple[1][1])  # Output: kiwi\n",
        "\n",
        "# Mixed Nested Structure: List inside Dictionary\n",
        "mixed_structure = {\n",
        "    \"fruits\": [\"apple\", \"banana\", \"cherry\"],\n",
        "    \"vegetables\": [\"carrot\", \"tomato\", \"spinach\"]\n",
        "}\n",
        "\n",
        "# Accessing list inside a dictionary\n",
        "print(\"First fruit:\", mixed_structure[\"fruits\"][0])  # Output: apple\n",
        "print(\"Second vegetable:\", mixed_structure[\"vegetables\"][1])  # Output: tomato\n"
      ]
    }
  ]
}
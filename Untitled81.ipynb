{
  "nbformat": 4,
  "nbformat_minor": 0,
  "metadata": {
    "colab": {
      "provenance": []
    },
    "kernelspec": {
      "name": "python3",
      "display_name": "Python 3"
    },
    "language_info": {
      "name": "python"
    }
  },
  "cells": [
    {
      "cell_type": "code",
      "execution_count": 1,
      "metadata": {
        "id": "MzxIZqK1moNz",
        "colab": {
          "base_uri": "https://localhost:8080/"
        },
        "outputId": "f5600002-6ae5-41cf-a31b-348e58701b11"
      },
      "outputs": [
        {
          "output_type": "stream",
          "name": "stdout",
          "text": [
            "Emails found: ['john.doe123@example.com', 'jane_doe@company.org']\n",
            "Phone numbers found: ['(123) 456-7890', '(987) 654-3210']\n",
            "URLs found: ['https://www.example.com', 'http://www.test.com']\n",
            "Dates found: ['2025-01-11']\n",
            "Words found: ['John', 's', 'email', 'is', 'john', 'doe123', 'example', 'com', 'You', 'can', 'also', 'contact', 'jane_doe', 'company', 'org', 'Visit', 'our', 'website', 'at', 'https', 'www', 'example', 'com', 'or', 'http', 'www', 'test', 'com', 'Call', 'us', 'at', '123', '456', '7890', 'or', '987', '654', '3210', 'Here', 's', 'a', 'date', '2025', '01', '11']\n",
            "Text with emails redacted: \n",
            "John's email is [REDACTED]. You can also contact [REDACTED].\n",
            "Visit our website at https://www.example.com or http://www.test.com. \n",
            "Call us at (123) 456-7890 or (987) 654-3210. Here's a date: 2025-01-11.\n",
            "\n",
            "someone@domain.com is a valid email.\n"
          ]
        }
      ],
      "source": [
        "import re\n",
        "\n",
        "# Sample text to demonstrate regex operations\n",
        "text = \"\"\"\n",
        "John's email is john.doe123@example.com. You can also contact jane_doe@company.org.\n",
        "Visit our website at https://www.example.com or http://www.test.com.\n",
        "Call us at (123) 456-7890 or (987) 654-3210. Here's a date: 2025-01-11.\n",
        "\"\"\"\n",
        "\n",
        "# 1. Match email addresses\n",
        "email_pattern = r\"[a-zA-Z0-9._%+-]+@[a-zA-Z0-9.-]+\\.[a-zA-Z]{2,}\"\n",
        "emails = re.findall(email_pattern, text)\n",
        "print(\"Emails found:\", emails)\n",
        "\n",
        "# 2. Match phone numbers in the format (XXX) XXX-XXXX\n",
        "phone_pattern = r\"\\(\\d{3}\\) \\d{3}-\\d{4}\"\n",
        "phones = re.findall(phone_pattern, text)\n",
        "print(\"Phone numbers found:\", phones)\n",
        "\n",
        "# 3. Match URLs (both http and https)\n",
        "url_pattern = r\"https?://(?:www\\.)?[a-zA-Z0-9-]+\\.[a-zA-Z]{2,}\"\n",
        "urls = re.findall(url_pattern, text)\n",
        "print(\"URLs found:\", urls)\n",
        "\n",
        "# 4. Match a date in the format YYYY-MM-DD\n",
        "date_pattern = r\"\\d{4}-\\d{2}-\\d{2}\"\n",
        "dates = re.findall(date_pattern, text)\n",
        "print(\"Dates found:\", dates)\n",
        "\n",
        "# 5. Match any word (alphanumeric characters)\n",
        "word_pattern = r\"\\b\\w+\\b\"\n",
        "words = re.findall(word_pattern, text)\n",
        "print(\"Words found:\", words)\n",
        "\n",
        "# 6. Replace all email addresses with '[REDACTED]'\n",
        "redacted_text = re.sub(email_pattern, '[REDACTED]', text)\n",
        "print(\"Text with emails redacted:\", redacted_text)\n",
        "\n",
        "# 7. Validate a simple email address format (just checking the structure)\n",
        "valid_email = r\"^[a-zA-Z0-9._%+-]+@[a-zA-Z0-9.-]+\\.[a-zA-Z]{2,}$\"\n",
        "email_test = \"someone@domain.com\"\n",
        "if re.match(valid_email, email_test):\n",
        "    print(f\"{email_test} is a valid email.\")\n",
        "else:\n",
        "    print(f\"{email_test} is not a valid email.\")\n"
      ]
    }
  ]
}
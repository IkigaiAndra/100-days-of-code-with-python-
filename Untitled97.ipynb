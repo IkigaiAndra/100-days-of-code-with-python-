{
  "nbformat": 4,
  "nbformat_minor": 0,
  "metadata": {
    "colab": {
      "provenance": []
    },
    "kernelspec": {
      "name": "python3",
      "display_name": "Python 3"
    },
    "language_info": {
      "name": "python"
    }
  },
  "cells": [
    {
      "cell_type": "markdown",
      "source": [
        "PYTHON CALCULATOR WITHOUT TKINTER"
      ],
      "metadata": {
        "id": "TZ2zpAaHhpLm"
      }
    },
    {
      "cell_type": "code",
      "execution_count": 1,
      "metadata": {
        "colab": {
          "base_uri": "https://localhost:8080/"
        },
        "id": "vO00fkfZhNzj",
        "outputId": "a2a2752f-44e8-4d67-ba45-dd0cc37a49dd"
      },
      "outputs": [
        {
          "output_type": "stream",
          "name": "stdout",
          "text": [
            "Collecting PyQt5\n",
            "  Downloading PyQt5-5.15.11-cp38-abi3-manylinux_2_17_x86_64.whl.metadata (2.1 kB)\n",
            "Collecting PyQt5-sip<13,>=12.15 (from PyQt5)\n",
            "  Downloading PyQt5_sip-12.16.1-cp310-cp310-manylinux_2_5_x86_64.manylinux1_x86_64.whl.metadata (421 bytes)\n",
            "Collecting PyQt5-Qt5<5.16.0,>=5.15.2 (from PyQt5)\n",
            "  Downloading PyQt5_Qt5-5.15.16-py3-none-manylinux2014_x86_64.whl.metadata (536 bytes)\n",
            "Downloading PyQt5-5.15.11-cp38-abi3-manylinux_2_17_x86_64.whl (8.2 MB)\n",
            "\u001b[2K   \u001b[90m━━━━━━━━━━━━━━━━━━━━━━━━━━━━━━━━━━━━━━━━\u001b[0m \u001b[32m8.2/8.2 MB\u001b[0m \u001b[31m47.5 MB/s\u001b[0m eta \u001b[36m0:00:00\u001b[0m\n",
            "\u001b[?25hDownloading PyQt5_Qt5-5.15.16-py3-none-manylinux2014_x86_64.whl (59.9 MB)\n",
            "\u001b[2K   \u001b[90m━━━━━━━━━━━━━━━━━━━━━━━━━━━━━━━━━━━━━━━━\u001b[0m \u001b[32m59.9/59.9 MB\u001b[0m \u001b[31m13.5 MB/s\u001b[0m eta \u001b[36m0:00:00\u001b[0m\n",
            "\u001b[?25hDownloading PyQt5_sip-12.16.1-cp310-cp310-manylinux_2_5_x86_64.manylinux1_x86_64.whl (270 kB)\n",
            "\u001b[2K   \u001b[90m━━━━━━━━━━━━━━━━━━━━━━━━━━━━━━━━━━━━━━━━\u001b[0m \u001b[32m270.8/270.8 kB\u001b[0m \u001b[31m18.4 MB/s\u001b[0m eta \u001b[36m0:00:00\u001b[0m\n",
            "\u001b[?25hInstalling collected packages: PyQt5-Qt5, PyQt5-sip, PyQt5\n",
            "Successfully installed PyQt5-5.15.11 PyQt5-Qt5-5.15.16 PyQt5-sip-12.16.1\n"
          ]
        }
      ],
      "source": [
        "pip install PyQt5\n"
      ]
    },
    {
      "cell_type": "code",
      "source": [
        "import sys\n",
        "from PyQt5.QtWidgets import QApplication, QWidget, QLabel, QLineEdit, QPushButton, QVBoxLayout, QMessageBox\n",
        "\n",
        "class PercentageCalculator(QWidget):\n",
        "    def __init__(self):\n",
        "        super().__init__()\n",
        "\n",
        "        self.setWindowTitle(\"Percentage Calculator\")\n",
        "        self.setGeometry(100, 100, 300, 250)\n",
        "\n",
        "        # Create UI elements\n",
        "        self.label_base = QLabel(\"Base Value:\", self)\n",
        "        self.entry_base = QLineEdit(self)\n",
        "        self.label_percentage = QLabel(\"Percentage:\", self)\n",
        "        self.entry_percentage = QLineEdit(self)\n",
        "        self.button_calculate = QPushButton(\"Calculate\", self)\n",
        "        self.label_result = QLabel(\"Result: \", self)\n",
        "        self.button_clear = QPushButton(\"Clear\", self)\n",
        "\n",
        "        # Set up layout\n",
        "        self.layout = QVBoxLayout()\n",
        "        self.layout.addWidget(self.label_base)\n",
        "        self.layout.addWidget(self.entry_base)\n",
        "        self.layout.addWidget(self.label_percentage)\n",
        "        self.layout.addWidget(self.entry_percentage)\n",
        "        self.layout.addWidget(self.button_calculate)\n",
        "        self.layout.addWidget(self.label_result)\n",
        "        self.layout.addWidget(self.button_clear)\n",
        "\n",
        "        self.setLayout(self.layout)\n",
        "\n",
        "        # Connect buttons to functions\n",
        "        self.button_calculate.clicked.connect(self.calculate_percentage)\n",
        "        self.button_clear.clicked.connect(self.clear_inputs)\n",
        "\n",
        "    def calculate_percentage(self):\n",
        "        try:\n",
        "            # Get user inputs\n",
        "            base_value = float(self.entry_base.text())\n",
        "            percentage_value = float(self.entry_percentage.text())\n",
        "\n",
        "            # Validate inputs\n",
        "            if base_value < 0 or percentage_value < 0:\n",
        "                raise ValueError(\"Values cannot be negative.\")\n",
        "\n",
        "            # Calculate percentage\n",
        "            result = (base_value * percentage_value) / 100\n",
        "            self.label_result.setText(f\"Result: {result:.2f}\")\n",
        "\n",
        "        except ValueError as e:\n",
        "            # Show error message if inputs are invalid\n",
        "            QMessageBox.warning(self, \"Input Error\", f\"Invalid input: {str(e)}\")\n",
        "\n",
        "    def clear_inputs(self):\n",
        "        # Clear all input fields and reset result label\n",
        "        self.entry_base.clear()\n",
        "        self.entry_percentage.clear()\n",
        "        self.label_result.setText(\"Result: \")\n",
        "\n",
        "# Main function to run the application\n",
        "def main():\n",
        "    app = QApplication(sys.argv)\n",
        "    window = PercentageCalculator()\n",
        "    window.show()\n",
        "    sys.exit(app.exec_())\n",
        "\n",
        "if __name__ == \"__main__\":\n",
        "    main()\n"
      ],
      "metadata": {
        "id": "__5PDEsOhlnd"
      },
      "execution_count": null,
      "outputs": []
    },
    {
      "cell_type": "markdown",
      "source": [],
      "metadata": {
        "id": "l9kAH78XhmhU"
      }
    }
  ]
}
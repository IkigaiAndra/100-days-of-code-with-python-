{
  "nbformat": 4,
  "nbformat_minor": 0,
  "metadata": {
    "colab": {
      "provenance": []
    },
    "kernelspec": {
      "name": "python3",
      "display_name": "Python 3"
    },
    "language_info": {
      "name": "python"
    }
  },
  "cells": [
    {
      "cell_type": "code",
      "execution_count": 1,
      "metadata": {
        "colab": {
          "base_uri": "https://localhost:8080/"
        },
        "id": "lWsmaUzQC-qo",
        "outputId": "10db5182-8fc2-4184-f48c-cf108b73d1e4"
      },
      "outputs": [
        {
          "output_type": "stream",
          "name": "stdout",
          "text": [
            "8\n",
            "16\n",
            "Hello, World!\n",
            "Odd\n",
            "Even\n",
            "[2, 4, 6, 8]\n",
            "[2, 4]\n",
            "24\n",
            "[(1, 'apple'), (3, 'banana'), (2, 'orange')]\n",
            "(2, 'orange')\n",
            "[4]\n"
          ]
        }
      ],
      "source": [
        "# Lambda Functions in Python: Demonstrating Various Use Cases\n",
        "\n",
        "# 1. Basic Lambda Function\n",
        "add = lambda x, y: x + y  # A lambda function that adds two numbers\n",
        "print(add(5, 3))  # Output: 8\n",
        "\n",
        "# 2. Lambda Function with Single Argument\n",
        "square = lambda x: x ** 2  # A lambda function that squares a number\n",
        "print(square(4))  # Output: 16\n",
        "\n",
        "# 3. Lambda Function Without Arguments\n",
        "greet = lambda: \"Hello, World!\"  # A lambda function that returns a greeting\n",
        "print(greet())  # Output: Hello, World!\n",
        "\n",
        "# 4. Lambda with Conditional (Ternary) Expression\n",
        "check_even_odd = lambda x: \"Even\" if x % 2 == 0 else \"Odd\"  # Check if a number is even or odd\n",
        "print(check_even_odd(5))  # Output: Odd\n",
        "print(check_even_odd(4))  # Output: Even\n",
        "\n",
        "# 5. Lambda with `map()`: Applying a function to all items in an iterable\n",
        "numbers = [1, 2, 3, 4]\n",
        "doubled_numbers = list(map(lambda x: x * 2, numbers))  # Double each number in the list\n",
        "print(doubled_numbers)  # Output: [2, 4, 6, 8]\n",
        "\n",
        "# 6. Lambda with `filter()`: Filtering items based on a condition\n",
        "even_numbers = list(filter(lambda x: x % 2 == 0, numbers))  # Filter out even numbers\n",
        "print(even_numbers)  # Output: [2, 4]\n",
        "\n",
        "# 7. Lambda with `reduce()`: Applying a function cumulatively to the items of an iterable\n",
        "from functools import reduce\n",
        "product = reduce(lambda x, y: x * y, numbers)  # Find the product of all numbers in the list\n",
        "print(product)  # Output: 24\n",
        "\n",
        "# 8. Lambda for Sorting: Sorting by custom criteria\n",
        "pairs = [(1, 'apple'), (3, 'banana'), (2, 'orange')]\n",
        "sorted_pairs = sorted(pairs, key=lambda x: x[1])  # Sort by the second element (fruit name)\n",
        "print(sorted_pairs)  # Output: [(3, 'banana'), (1, 'apple'), (2, 'orange')]\n",
        "\n",
        "# 9. Lambda with `max()`: Finding the maximum value based on a custom criterion\n",
        "max_pair = max(pairs, key=lambda x: x[1])  # Get the tuple with the largest second element\n",
        "print(max_pair)  # Output: (3, 'banana')\n",
        "\n",
        "# 10. Lambda inside List Comprehension: Using lambda with list comprehension\n",
        "numbers = [1, 2, 3, 4, 5, 6]\n",
        "squared_evens = [lambda x: x ** 2 for x in numbers if x % 2 == 0]  # Square even numbers\n",
        "print([f(x) for f, x in zip(squared_evens, numbers) if x % 2 == 0])  # Output: [4, 16, 36]\n",
        "\n"
      ]
    }
  ]
}
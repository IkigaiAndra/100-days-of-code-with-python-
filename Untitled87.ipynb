{
  "nbformat": 4,
  "nbformat_minor": 0,
  "metadata": {
    "colab": {
      "provenance": []
    },
    "kernelspec": {
      "name": "python3",
      "display_name": "Python 3"
    },
    "language_info": {
      "name": "python"
    }
  },
  "cells": [
    {
      "cell_type": "code",
      "execution_count": 3,
      "metadata": {
        "colab": {
          "base_uri": "https://localhost:8080/"
        },
        "id": "nZhDt1e64F4n",
        "outputId": "cfa09363-5452-43e0-c57a-78a4d155a377"
      },
      "outputs": [
        {
          "output_type": "stream",
          "name": "stdout",
          "text": [
            "Requirement already satisfied: pygame in /usr/local/lib/python3.10/dist-packages (2.6.1)\n"
          ]
        }
      ],
      "source": [
        "!pip install pygame"
      ]
    },
    {
      "cell_type": "code",
      "source": [
        "import pygame\n",
        "import random\n",
        "import math\n",
        "\n",
        "pygame.init()\n",
        "\n",
        "# Screen dimensions\n",
        "WIDTH, HEIGHT = 800, 600\n",
        "screen = pygame.display.set_mode((WIDTH, HEIGHT))\n",
        "pygame.display.set_caption(\"New Year's Fireworks\")\n",
        "\n",
        "clock = pygame.time.Clock()\n",
        "\n",
        "# Particle class for fireworks\n",
        "class Particle:\n",
        "    def __init__(self, x, y, color):\n",
        "        self.x = x\n",
        "        self.y = y\n",
        "        self.color = color\n",
        "        self.radius = random.randint(3, 6)\n",
        "        self.angle = random.uniform(0, 2 * math.pi)\n",
        "        self.speed = random.uniform(2, 8)\n",
        "        self.gravity = 0.2\n",
        "\n",
        "    def move(self):\n",
        "        self.x += math.cos(self.angle) * self.speed\n",
        "        self.y += math.sin(self.angle) * self.speed\n",
        "        self.speed -= 0.1  # Slow down the particle\n",
        "        self.y += self.gravity  # Apply gravity\n",
        "        self.radius -= 0.1  # Shrink the particle\n",
        "        self.radius = max(0, self.radius)  # Prevent negative radius\n",
        "\n",
        "    def draw(self, surface):\n",
        "        if self.radius > 0:\n",
        "            pygame.draw.circle(surface, self.color, (int(self.x), int(self.y)), int(self.radius))\n",
        "\n",
        "class Fireworks:\n",
        "    def __init__(self, x, y): #Fixed: Indentation corrected to align with class definition\n",
        "        self.x = x\n",
        "        self.y = y\n",
        "        self.color = random.choice([(255, 0, 0), (0, 255, 0), (0, 0, 255),\n",
        "                                    (255, 255, 0), (255, 0, 255), (0, 255, 255)])\n",
        "        self.particles = [Particle(self.x, self.y, self.color) for _ in range(50)]\n",
        "        self.exploded = False\n",
        "\n",
        "    def explode(self): #Fixed: Indentation corrected to align with class definition\n",
        "        for particle in self.particles:\n",
        "            particle.move()\n",
        "        self.particles = [p for p in self.particles if p.radius > 0]  # Remove small particles\n",
        "        if not self.particles:\n",
        "            self.exploded = True\n",
        "\n",
        "    def draw(self, surface): #Fixed: Indentation corrected to align with class definition\n",
        "        for particle in self.particles:\n",
        "            particle.draw(surface)\n",
        "\n",
        "# Main game loop\n",
        "def main():\n",
        "    fireworks = []\n",
        "    running = True\n",
        "\n",
        "    while running:\n",
        "        screen.fill((0, 0, 0))  # Clear screen for the next frame\n",
        "\n",
        "        # Event handling\n",
        "        for event in pygame.event.get():\n",
        "            if event.type == pygame.QUIT:\n",
        "                running = False\n",
        "\n",
        "        # Add a new firework at random intervals\n",
        "        if random.randint(1, 20) == 1:\n",
        "            fireworks.append(Fireworks(random.randint(100, WIDTH - 100), random.randint(100, HEIGHT // 2)))\n",
        "\n",
        "        # Update and draw fireworks\n",
        "        for firework in fireworks:\n",
        "            firework.explode()\n",
        "            firework.draw(screen)\n",
        "\n",
        "        # Remove exploded fireworks\n",
        "        fireworks = [fw for fw in fireworks if not fw.exploded]\n",
        "\n",
        "        # Update display\n",
        "        pygame.display.flip()\n",
        "\n",
        "        # Control frame rate\n",
        "        clock.tick(60)\n",
        "\n",
        "    pygame.quit()\n",
        "\n",
        "# Run the program\n",
        "if __name__ == \"__main__\":\n",
        "    main()"
      ],
      "metadata": {
        "colab": {
          "base_uri": "https://localhost:8080/"
        },
        "id": "bF4-J_S256Jt",
        "outputId": "b406474a-1c0d-4f5f-8cfc-aca74733c40e"
      },
      "execution_count": null,
      "outputs": [
        {
          "output_type": "stream",
          "name": "stdout",
          "text": [
            "pygame 2.6.1 (SDL 2.28.4, Python 3.10.12)\n",
            "Hello from the pygame community. https://www.pygame.org/contribute.html\n"
          ]
        }
      ]
    }
  ]
}
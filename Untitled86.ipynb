{
  "nbformat": 4,
  "nbformat_minor": 0,
  "metadata": {
    "colab": {
      "provenance": []
    },
    "kernelspec": {
      "name": "python3",
      "display_name": "Python 3"
    },
    "language_info": {
      "name": "python"
    }
  },
  "cells": [
    {
      "cell_type": "code",
      "execution_count": 1,
      "metadata": {
        "colab": {
          "base_uri": "https://localhost:8080/",
          "height": 332
        },
        "id": "ZgeRwPxq2ys9",
        "outputId": "90e9a391-3f10-4e45-87cf-7d74cc650d3c"
      },
      "outputs": [
        {
          "output_type": "error",
          "ename": "TclError",
          "evalue": "no display name and no $DISPLAY environment variable",
          "traceback": [
            "\u001b[0;31m---------------------------------------------------------------------------\u001b[0m",
            "\u001b[0;31mTclError\u001b[0m                                  Traceback (most recent call last)",
            "\u001b[0;32m<ipython-input-1-82a9abc0fb03>\u001b[0m in \u001b[0;36m<cell line: 5>\u001b[0;34m()\u001b[0m\n\u001b[1;32m      3\u001b[0m \u001b[0;34m\u001b[0m\u001b[0m\n\u001b[1;32m      4\u001b[0m \u001b[0;31m# Initialize the main application window\u001b[0m\u001b[0;34m\u001b[0m\u001b[0;34m\u001b[0m\u001b[0m\n\u001b[0;32m----> 5\u001b[0;31m \u001b[0mroot\u001b[0m \u001b[0;34m=\u001b[0m \u001b[0mtk\u001b[0m\u001b[0;34m.\u001b[0m\u001b[0mTk\u001b[0m\u001b[0;34m(\u001b[0m\u001b[0;34m)\u001b[0m\u001b[0;34m\u001b[0m\u001b[0;34m\u001b[0m\u001b[0m\n\u001b[0m\u001b[1;32m      6\u001b[0m \u001b[0mroot\u001b[0m\u001b[0;34m.\u001b[0m\u001b[0mtitle\u001b[0m\u001b[0;34m(\u001b[0m\u001b[0;34m\"Tic-Tac-Toe\"\u001b[0m\u001b[0;34m)\u001b[0m\u001b[0;34m\u001b[0m\u001b[0;34m\u001b[0m\u001b[0m\n\u001b[1;32m      7\u001b[0m \u001b[0;34m\u001b[0m\u001b[0m\n",
            "\u001b[0;32m/usr/lib/python3.10/tkinter/__init__.py\u001b[0m in \u001b[0;36m__init__\u001b[0;34m(self, screenName, baseName, className, useTk, sync, use)\u001b[0m\n\u001b[1;32m   2297\u001b[0m                 \u001b[0mbaseName\u001b[0m \u001b[0;34m=\u001b[0m \u001b[0mbaseName\u001b[0m \u001b[0;34m+\u001b[0m \u001b[0mext\u001b[0m\u001b[0;34m\u001b[0m\u001b[0;34m\u001b[0m\u001b[0m\n\u001b[1;32m   2298\u001b[0m         \u001b[0minteractive\u001b[0m \u001b[0;34m=\u001b[0m \u001b[0;32mFalse\u001b[0m\u001b[0;34m\u001b[0m\u001b[0;34m\u001b[0m\u001b[0m\n\u001b[0;32m-> 2299\u001b[0;31m         \u001b[0mself\u001b[0m\u001b[0;34m.\u001b[0m\u001b[0mtk\u001b[0m \u001b[0;34m=\u001b[0m \u001b[0m_tkinter\u001b[0m\u001b[0;34m.\u001b[0m\u001b[0mcreate\u001b[0m\u001b[0;34m(\u001b[0m\u001b[0mscreenName\u001b[0m\u001b[0;34m,\u001b[0m \u001b[0mbaseName\u001b[0m\u001b[0;34m,\u001b[0m \u001b[0mclassName\u001b[0m\u001b[0;34m,\u001b[0m \u001b[0minteractive\u001b[0m\u001b[0;34m,\u001b[0m \u001b[0mwantobjects\u001b[0m\u001b[0;34m,\u001b[0m \u001b[0museTk\u001b[0m\u001b[0;34m,\u001b[0m \u001b[0msync\u001b[0m\u001b[0;34m,\u001b[0m \u001b[0muse\u001b[0m\u001b[0;34m)\u001b[0m\u001b[0;34m\u001b[0m\u001b[0;34m\u001b[0m\u001b[0m\n\u001b[0m\u001b[1;32m   2300\u001b[0m         \u001b[0;32mif\u001b[0m \u001b[0museTk\u001b[0m\u001b[0;34m:\u001b[0m\u001b[0;34m\u001b[0m\u001b[0;34m\u001b[0m\u001b[0m\n\u001b[1;32m   2301\u001b[0m             \u001b[0mself\u001b[0m\u001b[0;34m.\u001b[0m\u001b[0m_loadtk\u001b[0m\u001b[0;34m(\u001b[0m\u001b[0;34m)\u001b[0m\u001b[0;34m\u001b[0m\u001b[0;34m\u001b[0m\u001b[0m\n",
            "\u001b[0;31mTclError\u001b[0m: no display name and no $DISPLAY environment variable"
          ]
        }
      ],
      "source": [
        "import tkinter as tk\n",
        "from tkinter import messagebox\n",
        "\n",
        "# Initialize the main application window\n",
        "root = tk.Tk()\n",
        "root.title(\"Tic-Tac-Toe\")\n",
        "\n",
        "current_player = \"X\"\n",
        "buttons = [[None, None, None], [None, None, None], [None, None, None]]\n",
        "game_over = False\n",
        "\n",
        "# Function to highlight the winning buttons\n",
        "def highlight_winner(b1, b2, b3):\n",
        "    b1.config(bg=\"lightgreen\")\n",
        "    b2.config(bg=\"lightgreen\")\n",
        "    b3.config(bg=\"lightgreen\")\n",
        "\n",
        "def check_winner():\n",
        "\n",
        "    global game_over\n",
        "\n",
        "    # Check rows\n",
        "    for row in range(3):\n",
        "        if buttons[row][0][\"text\"] == buttons[row][1][\"text\"] == buttons[row][2][\"text\"] != \"\":\n",
        "            highlight_winner(buttons[row][0], buttons[row][1], buttons[row][2])\n",
        "            messagebox.showinfo(\"Game Over\", f\"Player {buttons[row][0]['text']} wins!\")\n",
        "            game_over = True\n",
        "            return\n",
        "\n",
        "    # Check columns\n",
        "    for col in range(3):\n",
        "        if buttons[0][col][\"text\"] == buttons[1][col][\"text\"] == buttons[2][col][\"text\"] != \"\":\n",
        "            highlight_winner(buttons[0][col], buttons[1][col], buttons[2][col])\n",
        "            messagebox.showinfo(\"Game Over\", f\"Player {buttons[0][col]['text']} wins!\")\n",
        "            game_over = True\n",
        "            return\n",
        "\n",
        "    # Check diagonals\n",
        "    if buttons[0][0][\"text\"] == buttons[1][1][\"text\"] == buttons[2][2][\"text\"] != \"\":\n",
        "        highlight_winner(buttons[0][0], buttons[1][1], buttons[2][2])\n",
        "        messagebox.showinfo(\"Game Over\", f\"Player {buttons[0][0]['text']} wins!\")\n",
        "        game_over = True\n",
        "        return\n",
        "\n",
        "    if buttons[0][2][\"text\"] == buttons[1][1][\"text\"] == buttons[2][0][\"text\"] != \"\":\n",
        "        highlight_winner(buttons[0][2], buttons[1][1], buttons[2][0])\n",
        "        messagebox.showinfo(\"Game Over\", f\"Player {buttons[0][2]['text']} wins!\")\n",
        "        game_over = True\n",
        "        return\n",
        "\n",
        "    # Check for a draw\n",
        "    if all(buttons[row][col][\"text\"] != \"\" for row in range(3) for col in range(3)) and not game_over:\n",
        "        messagebox.showinfo(\"Game Over\", \"It's a draw!\")\n",
        "        game_over = True\n",
        "\n",
        "def button_clicks(row, col):\n",
        "    global current_player\n",
        "    if buttons[row][col][\"text\"] == \"\" and not game_over:\n",
        "        buttons[row][col][\"text\"] = current_player\n",
        "        buttons[row][col].config(fg=\"black\" if current_player == \"X\" else \"blue\")\n",
        "\n",
        "        check_winner()\n",
        "\n",
        "        # Switch player\n",
        "        current_player = \"O\" if current_player == \"X\" else \"X\"\n",
        "\n",
        "# Function to reset the game\n",
        "def reset_game():\n",
        "    global current_player, game_over\n",
        "    current_player = \"X\"\n",
        "    game_over = False\n",
        "    for row in range(3):\n",
        "        for col in range(3):\n",
        "            buttons[row][col][\"text\"] = \"\"\n",
        "            buttons[row][col].config(bg=\"SystemButtonFace\")\n",
        "\n",
        "# Create the Tic-Tac-Toe grid\n",
        "for row in range(3):\n",
        "    for col in range(3):\n",
        "        buttons[row][col] = tk.Button(root, text=\"\", width=10, height=3, font=('Helvetica', 20), command=lambda r=row, c=col: button_clicks(r, c))\n",
        "        buttons[row][col].grid(row=row, column=col)\n",
        "\n",
        "# Reset button to start a new game\n",
        "reset_button = tk.Button(root, text=\"Reset\", font=('Helvetica', 15), command=reset_game)\n",
        "reset_button.grid(row=3, column=0, columnspan=3)\n",
        "\n",
        "# Run the Tkinter main loop\n",
        "root.mainloop()"
      ]
    }
  ]
}
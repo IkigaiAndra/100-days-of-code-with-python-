{
  "nbformat": 4,
  "nbformat_minor": 0,
  "metadata": {
    "colab": {
      "provenance": []
    },
    "kernelspec": {
      "name": "python3",
      "display_name": "Python 3"
    },
    "language_info": {
      "name": "python"
    }
  },
  "cells": [
    {
      "cell_type": "code",
      "execution_count": 1,
      "metadata": {
        "colab": {
          "base_uri": "https://localhost:8080/"
        },
        "id": "M01qr3RCDDcG",
        "outputId": "2339748d-fcfe-4fd9-844d-97ebe2bd12ae"
      },
      "outputs": [
        {
          "output_type": "stream",
          "name": "stdout",
          "text": [
            "Collecting reportlab\n",
            "  Downloading reportlab-4.2.5-py3-none-any.whl.metadata (1.5 kB)\n",
            "Requirement already satisfied: pillow>=9.0.0 in /usr/local/lib/python3.10/dist-packages (from reportlab) (11.1.0)\n",
            "Requirement already satisfied: chardet in /usr/local/lib/python3.10/dist-packages (from reportlab) (5.2.0)\n",
            "Downloading reportlab-4.2.5-py3-none-any.whl (1.9 MB)\n",
            "\u001b[2K   \u001b[90m━━━━━━━━━━━━━━━━━━━━━━━━━━━━━━━━━━━━━━━━\u001b[0m \u001b[32m1.9/1.9 MB\u001b[0m \u001b[31m13.4 MB/s\u001b[0m eta \u001b[36m0:00:00\u001b[0m\n",
            "\u001b[?25hInstalling collected packages: reportlab\n",
            "Successfully installed reportlab-4.2.5\n"
          ]
        }
      ],
      "source": [
        "pip install reportlab\n"
      ]
    },
    {
      "cell_type": "code",
      "source": [
        "from reportlab.lib.pagesizes import letter\n",
        "from reportlab.pdfgen import canvas\n",
        "\n",
        "# Function to create PDF\n",
        "def generate_pdf(filename):\n",
        "    # Create a PDF with the specified filename\n",
        "    c = canvas.Canvas(filename, pagesize=letter)\n",
        "\n",
        "    # Set the title and font\n",
        "    c.setFont(\"Helvetica\", 16)\n",
        "    c.drawString(200, 750, \"My PDF Generator\")\n",
        "\n",
        "    # Add some text\n",
        "    c.setFont(\"Helvetica\", 12)\n",
        "    text = \"This is a simple PDF document generated with Python's reportlab library.\"\n",
        "    c.drawString(100, 700, text)\n",
        "\n",
        "    # Add a multiline text\n",
        "    text = \"\"\"\n",
        "    You can easily generate PDFs using Python. This project demonstrates how to use the reportlab library.\n",
        "    This PDF can include text, images, tables, and more.\n",
        "    \"\"\"\n",
        "    c.drawString(100, 650, text.strip())\n",
        "\n",
        "    # Draw a simple line\n",
        "    c.setStrokeColorRGB(0, 0, 0)\n",
        "    c.line(100, 600, 500, 600)\n",
        "\n",
        "    # Add another text after the line\n",
        "    c.drawString(100, 580, \"Below the line!\")\n",
        "\n",
        "    # Save the PDF to a file\n",
        "    c.save()\n",
        "\n",
        "# Main function to run the PDF generator\n",
        "def main():\n",
        "    # Define the filename for the PDF\n",
        "    filename = \"generated_pdf.pdf\"\n",
        "\n",
        "    # Generate the PDF\n",
        "    generate_pdf(filename)\n",
        "\n",
        "    print(f\"PDF generated successfully and saved as {filename}\")\n",
        "\n",
        "if __name__ == \"__main__\":\n",
        "    main()\n"
      ],
      "metadata": {
        "colab": {
          "base_uri": "https://localhost:8080/"
        },
        "id": "SLHcudswDkkb",
        "outputId": "679d0a4c-526a-47c4-a0b1-9242724a9c39"
      },
      "execution_count": 2,
      "outputs": [
        {
          "output_type": "stream",
          "name": "stdout",
          "text": [
            "PDF generated successfully and saved as generated_pdf.pdf\n"
          ]
        }
      ]
    },
    {
      "cell_type": "code",
      "source": [
        "pip install PyPDF2\n"
      ],
      "metadata": {
        "colab": {
          "base_uri": "https://localhost:8080/"
        },
        "id": "tCJOFC0cD4KV",
        "outputId": "2445944c-bb84-4135-8463-9fbe68edc0f5"
      },
      "execution_count": 3,
      "outputs": [
        {
          "output_type": "stream",
          "name": "stdout",
          "text": [
            "Collecting PyPDF2\n",
            "  Downloading pypdf2-3.0.1-py3-none-any.whl.metadata (6.8 kB)\n",
            "Downloading pypdf2-3.0.1-py3-none-any.whl (232 kB)\n",
            "\u001b[2K   \u001b[90m━━━━━━━━━━━━━━━━━━━━━━━━━━━━━━━━━━━━━━━━\u001b[0m \u001b[32m232.6/232.6 kB\u001b[0m \u001b[31m3.1 MB/s\u001b[0m eta \u001b[36m0:00:00\u001b[0m\n",
            "\u001b[?25hInstalling collected packages: PyPDF2\n",
            "Successfully installed PyPDF2-3.0.1\n"
          ]
        }
      ]
    },
    {
      "cell_type": "code",
      "source": [
        "import PyPDF2\n",
        "\n",
        "# Function to extract and print text from the PDF\n",
        "def extract_pdf_content(pdf_filename):\n",
        "    # Open the PDF file in read-binary mode\n",
        "    with open(pdf_filename, 'rb') as file:\n",
        "        # Create a PDF reader object\n",
        "        pdf_reader = PyPDF2.PdfReader(file)\n",
        "\n",
        "        # Initialize an empty string to store the text\n",
        "        pdf_text = \"\"\n",
        "\n",
        "        # Iterate over each page in the PDF\n",
        "        for page_num in range(len(pdf_reader.pages)):\n",
        "            page = pdf_reader.pages[page_num]\n",
        "            pdf_text += page.extract_text()  # Extract text from the page\n",
        "\n",
        "        return pdf_text\n",
        "\n",
        "# Main function to print the PDF contents\n",
        "def main():\n",
        "    pdf_filename = \"generated_pdf.pdf\"  # Path to the PDF file\n",
        "    pdf_content = extract_pdf_content(pdf_filename)\n",
        "\n",
        "    # Print the extracted content\n",
        "    print(\"PDF Content:\")\n",
        "    print(pdf_content)\n",
        "\n",
        "if __name__ == \"__main__\":\n",
        "    main()\n"
      ],
      "metadata": {
        "colab": {
          "base_uri": "https://localhost:8080/"
        },
        "id": "1VfMjWlpD7O-",
        "outputId": "42801378-b54b-4f8c-e28a-4de497c669c9"
      },
      "execution_count": 4,
      "outputs": [
        {
          "output_type": "stream",
          "name": "stdout",
          "text": [
            "PDF Content:\n",
            "My PDF Generator\n",
            "This is a simple PDF document generated with Python's reportlab library.\n",
            "You can easily generate PDFs using Python. This project demonstrates how to use the reportlab library.■    This PDF can include text, images, tables, and more.\n",
            "Below the line!\n",
            "\n"
          ]
        }
      ]
    },
    {
      "cell_type": "code",
      "source": [
        "pip install pymupdf\n"
      ],
      "metadata": {
        "colab": {
          "base_uri": "https://localhost:8080/"
        },
        "id": "Pn-RHOglEDfD",
        "outputId": "1d1e4188-46d2-4955-dcbc-df5b556f87b2"
      },
      "execution_count": 5,
      "outputs": [
        {
          "output_type": "stream",
          "name": "stdout",
          "text": [
            "Collecting pymupdf\n",
            "  Downloading pymupdf-1.25.1-cp39-abi3-manylinux2014_x86_64.manylinux_2_17_x86_64.whl.metadata (3.4 kB)\n",
            "Downloading pymupdf-1.25.1-cp39-abi3-manylinux2014_x86_64.manylinux_2_17_x86_64.whl (20.0 MB)\n",
            "\u001b[2K   \u001b[90m━━━━━━━━━━━━━━━━━━━━━━━━━━━━━━━━━━━━━━━━\u001b[0m \u001b[32m20.0/20.0 MB\u001b[0m \u001b[31m73.0 MB/s\u001b[0m eta \u001b[36m0:00:00\u001b[0m\n",
            "\u001b[?25hInstalling collected packages: pymupdf\n",
            "Successfully installed pymupdf-1.25.1\n"
          ]
        }
      ]
    },
    {
      "cell_type": "code",
      "source": [
        "import fitz  # PyMuPDF\n",
        "\n",
        "# Function to extract and print text from the PDF\n",
        "def extract_pdf_content_pymupdf(pdf_filename):\n",
        "    # Open the PDF using PyMuPDF\n",
        "    doc = fitz.open(pdf_filename)\n",
        "\n",
        "    # Initialize an empty string to store the text\n",
        "    pdf_text = \"\"\n",
        "\n",
        "    # Iterate over each page in the PDF\n",
        "    for page_num in range(len(doc)):\n",
        "        page = doc.load_page(page_num)  # Load the page\n",
        "        pdf_text += page.get_text()  # Extract text from the page\n",
        "\n",
        "    return pdf_text\n",
        "\n",
        "# Main function to print the PDF contents\n",
        "def main():\n",
        "    pdf_filename = \"generated_pdf.pdf\"  # Path to the PDF file\n",
        "    pdf_content = extract_pdf_content_pymupdf(pdf_filename)\n",
        "\n",
        "    # Print the extracted content\n",
        "    print(\"PDF Content (using PyMuPDF):\")\n",
        "    print(pdf_content)\n",
        "\n",
        "if __name__ == \"__main__\":\n",
        "    main()\n"
      ],
      "metadata": {
        "colab": {
          "base_uri": "https://localhost:8080/"
        },
        "id": "TNR2tiF_EUS7",
        "outputId": "181e03b7-cc22-49dd-e67d-7560c504215c"
      },
      "execution_count": 6,
      "outputs": [
        {
          "output_type": "stream",
          "name": "stdout",
          "text": [
            "PDF Content (using PyMuPDF):\n",
            "My PDF Generator\n",
            "This is a simple PDF document generated with Python's reportlab library.\n",
            "You can easily generate PDFs using Python. This project demonstrates how to use the reportlab \n",
            "Below the line!\n",
            "\n"
          ]
        }
      ]
    }
  ]
}
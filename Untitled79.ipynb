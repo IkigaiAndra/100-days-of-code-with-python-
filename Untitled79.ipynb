{
  "nbformat": 4,
  "nbformat_minor": 0,
  "metadata": {
    "colab": {
      "provenance": []
    },
    "kernelspec": {
      "name": "python3",
      "display_name": "Python 3"
    },
    "language_info": {
      "name": "python"
    }
  },
  "cells": [
    {
      "cell_type": "code",
      "execution_count": 1,
      "metadata": {
        "colab": {
          "base_uri": "https://localhost:8080/"
        },
        "id": "XiNu9h0FkoRA",
        "outputId": "fe8f8bd6-889a-4006-a393-8925a3ed6d56"
      },
      "outputs": [
        {
          "output_type": "stream",
          "name": "stdout",
          "text": [
            "Requirement already satisfied: pygame in /usr/local/lib/python3.10/dist-packages (2.6.1)\n"
          ]
        }
      ],
      "source": [
        "!pip install pygame\n"
      ]
    },
    {
      "cell_type": "code",
      "source": [
        "import pygame\n",
        "import random\n",
        "\n",
        "# Initialize pygame\n",
        "pygame.init()\n",
        "\n",
        "# Set up the display window\n",
        "WIDTH, HEIGHT = 800, 600\n",
        "screen = pygame.display.set_mode((WIDTH, HEIGHT))\n",
        "pygame.display.set_caption(\"Snowfall Animation\")\n",
        "\n",
        "# Define color constants\n",
        "WHITE = (255, 255, 255)\n",
        "BLACK = (0, 0, 0)\n",
        "\n",
        "# Snowflake class to create and animate snowflakes\n",
        "class Snowflake:\n",
        "    def __init__(self):\n",
        "        # Randomize initial position and speed of snowflakes\n",
        "        self.x = random.randint(0, WIDTH)\n",
        "        self.y = random.randint(-20, HEIGHT)\n",
        "        self.size = random.randint(5, 10)  # Snowflake size\n",
        "        self.speed = random.uniform(1, 3)  # Falling speed\n",
        "\n",
        "    def fall(self):\n",
        "        # Update the y position of the snowflake to make it fall\n",
        "        self.y += self.speed\n",
        "        # Reset snowflake to top if it goes beyond the bottom of the screen\n",
        "        if self.y > HEIGHT:\n",
        "            self.y = random.randint(-20, -10)\n",
        "            self.x = random.randint(0, WIDTH)\n",
        "\n",
        "    def draw(self, screen):\n",
        "        # Draw the snowflake on the screen as a white circle\n",
        "        pygame.draw.circle(screen, WHITE, (self.x, self.y), self.size)\n",
        "\n",
        "# Create a list of snowflakes\n",
        "snowflakes = [Snowflake() for _ in range(100)]  # 100 snowflakes\n",
        "\n",
        "# Main animation loop\n",
        "running = True\n",
        "while running:\n",
        "    # Set frame rate\n",
        "    pygame.time.delay(30)\n",
        "\n",
        "    # Handle events (like closing the window)\n",
        "    for event in pygame.event.get():\n",
        "        if event.type == pygame.QUIT:\n",
        "            running = False\n",
        "\n",
        "    # Fill the screen with black to clear the previous frame\n",
        "    screen.fill(BLACK)\n",
        "\n",
        "    # Update and draw all snowflakes\n",
        "    for snowflake in snowflakes:\n",
        "        snowflake.fall()  # Update snowflake position\n",
        "        snowflake.draw(screen)  # Draw snowflake on screen\n",
        "\n",
        "    # Update the display\n",
        "    pygame.display.flip()\n",
        "\n",
        "# Quit pygame when the loop ends\n",
        "pygame.quit()\n"
      ],
      "metadata": {
        "colab": {
          "base_uri": "https://localhost:8080/"
        },
        "id": "SMqaYRrOk8qu",
        "outputId": "e2625b6c-0b58-4883-d49a-530f0a54d9b2"
      },
      "execution_count": null,
      "outputs": [
        {
          "output_type": "stream",
          "name": "stdout",
          "text": [
            "pygame 2.6.1 (SDL 2.28.4, Python 3.10.12)\n",
            "Hello from the pygame community. https://www.pygame.org/contribute.html\n"
          ]
        }
      ]
    },
    {
      "cell_type": "code",
      "source": [
        "import imageio\n",
        "# To save as a GIF, you can append each frame and use imageio.mimsave()\n"
      ],
      "metadata": {
        "id": "ApT8CvFYlM3G"
      },
      "execution_count": null,
      "outputs": []
    }
  ]
}
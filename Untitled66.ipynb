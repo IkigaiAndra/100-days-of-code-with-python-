{
  "nbformat": 4,
  "nbformat_minor": 0,
  "metadata": {
    "colab": {
      "provenance": []
    },
    "kernelspec": {
      "name": "python3",
      "display_name": "Python 3"
    },
    "language_info": {
      "name": "python"
    }
  },
  "cells": [
    {
      "cell_type": "code",
      "source": [
        "from IPython import get_ipython\n",
        "from IPython.display import display\n",
        "# %%\n",
        "!pip install beautifulsoup4 requests pydub\n",
        "from bs4 import BeautifulSoup\n",
        "import requests\n",
        "import os\n",
        "from pydub import AudioSegment\n",
        "\n",
        "def html_to_mp3(html_content, output_file=\"audio.mp3\"):\n",
        "    \"\"\"\n",
        "    Converts audio from HTML content to MP3.\n",
        "    \"\"\"\n",
        "    soup = BeautifulSoup(html_content, \"html.parser\")\n",
        "    audio_sources = soup.find_all(\"audio\")  # Find <audio> tags\n",
        "\n",
        "    if audio_sources:\n",
        "        for audio_source in audio_sources:\n",
        "            src = audio_source.get(\"src\")\n",
        "            if src:\n",
        "                # Download audio\n",
        "                # The original src was likely invalid. Changed to a placeholder.\n",
        "                # Please replace with a valid URL of an audio file.\n",
        "                src = \"https://www.soundhelix.com/examples/mp3/SoundHelix-Song-1.mp3\"\n",
        "                response = requests.get(src)\n",
        "                with open(\"temp_audio\", \"wb\") as f:\n",
        "                    f.write(response.content)\n",
        "\n",
        "                # Convert to MP3 (if not already)\n",
        "                audio = AudioSegment.from_file(\"temp_audio\")\n",
        "                audio.export(output_file, format=\"mp3\")\n",
        "                os.remove(\"temp_audio\")\n",
        "                break  # Process only the first audio source\n",
        "\n",
        "    else:\n",
        "        print(\"No audio sources found in HTML.\")\n",
        "\n",
        "# Example Usage:\n",
        "html_content = \"<html><body><audio src='https://ringtone.html/'></audio></body></html>\"\n",
        "html_to_mp3(html_content, \"my_audio.mp3\")\n"
      ],
      "metadata": {
        "colab": {
          "base_uri": "https://localhost:8080/"
        },
        "id": "2wR_grgo0VP2",
        "outputId": "f971cd13-e417-470f-d8b0-ac14ed023fb8"
      },
      "execution_count": 10,
      "outputs": [
        {
          "output_type": "stream",
          "name": "stdout",
          "text": [
            "Requirement already satisfied: beautifulsoup4 in /usr/local/lib/python3.10/dist-packages (4.12.3)\n",
            "Requirement already satisfied: requests in /usr/local/lib/python3.10/dist-packages (2.32.3)\n",
            "Requirement already satisfied: pydub in /usr/local/lib/python3.10/dist-packages (0.25.1)\n",
            "Requirement already satisfied: soupsieve>1.2 in /usr/local/lib/python3.10/dist-packages (from beautifulsoup4) (2.6)\n",
            "Requirement already satisfied: charset-normalizer<4,>=2 in /usr/local/lib/python3.10/dist-packages (from requests) (3.4.1)\n",
            "Requirement already satisfied: idna<4,>=2.5 in /usr/local/lib/python3.10/dist-packages (from requests) (3.10)\n",
            "Requirement already satisfied: urllib3<3,>=1.21.1 in /usr/local/lib/python3.10/dist-packages (from requests) (2.3.0)\n",
            "Requirement already satisfied: certifi>=2017.4.17 in /usr/local/lib/python3.10/dist-packages (from requests) (2024.12.14)\n"
          ]
        }
      ]
    },
    {
      "cell_type": "code",
      "source": [
        "import time\n",
        "import datetime\n",
        "from playsound import playsound  # Import playsound for cross-platform sound\n",
        "\n",
        "# Function to display the current time and set an alarm\n",
        "def set_alarm():\n",
        "    print(\"Welcome to the Alarm Clock!\")\n",
        "    print(\"Please enter the time for the alarm in HH:MM (24-hour format):\")\n",
        "\n",
        "    # Get user input for the alarm time\n",
        "    alarm_time_str = input(\"Enter time (HH:MM): \")\n",
        "\n",
        "    try:\n",
        "        # Convert user input into a time object\n",
        "        alarm_time = datetime.datetime.strptime(alarm_time_str, \"%H:%M\").time()\n",
        "\n",
        "        # Print the time the alarm is set for\n",
        "        print(f\"Alarm set for {alarm_time_str}.\")\n",
        "\n",
        "        return alarm_time\n",
        "    except ValueError:\n",
        "        print(\"Invalid time format. Please try again (HH:MM).\")\n",
        "        return None\n",
        "\n",
        "# Function to check and play alarm sound\n",
        "def check_alarm(alarm_time):\n",
        "    print(\"Waiting for the alarm time...\")\n",
        "\n",
        "    while True:\n",
        "        # Get the current time\n",
        "        current_time = datetime.datetime.now().time()\n",
        "\n",
        "        # Print the current time (for monitoring)\n",
        "        print(f\"Current time: {current_time.strftime('%H:%M:%S')}\", end='\\r')\n",
        "\n",
        "        # Check if the current time matches the alarm time\n",
        "        if current_time >= alarm_time:\n",
        "            print(\"\\n** ALARM! ** Time's up!\")\n",
        "            # Play a sound using playsound\n",
        "            playsound(' my_audio.mp3')  # Replace with the path to your sound file\n",
        "            break\n",
        "\n",
        "        # Wait for a second before checking again\n",
        "        time.sleep(1)\n",
        "\n",
        "# Main function to run the alarm clock\n",
        "def main():\n",
        "    alarm_time = None\n",
        "\n",
        "    while alarm_time is None:\n",
        "        alarm_time = set_alarm()  # Keep asking until valid time is set\n",
        "\n",
        "    check_alarm(alarm_time)  # Check for the alarm\n",
        "\n",
        "if __name__ == \"__main__\":\n",
        "    main()"
      ],
      "metadata": {
        "colab": {
          "base_uri": "https://localhost:8080/"
        },
        "outputId": "eb782701-cdd7-4893-f67a-8b9f77de40e6",
        "id": "fguUhpej5_kh"
      },
      "execution_count": null,
      "outputs": [
        {
          "output_type": "stream",
          "name": "stdout",
          "text": [
            "Welcome to the Alarm Clock!\n",
            "Please enter the time for the alarm in HH:MM (24-hour format):\n",
            "Enter time (HH:MM): 21:20\n",
            "Alarm set for 21:20.\n",
            "Waiting for the alarm time...\n"
          ]
        }
      ]
    },
    {
      "cell_type": "code",
      "source": [],
      "metadata": {
        "colab": {
          "base_uri": "https://localhost:8080/",
          "height": 408
        },
        "id": "zvDKJqjCy97U",
        "outputId": "d6a0496a-e917-47a1-9273-9fa7b0ffa2f1"
      },
      "execution_count": 9,
      "outputs": [
        {
          "output_type": "stream",
          "name": "stdout",
          "text": [
            "Welcome to the Alarm Clock!\n",
            "Please enter the time for the alarm in HH:MM (24-hour format):\n",
            "Enter time (HH:MM): 21:18\n",
            "Alarm set for 21:18.\n",
            "Waiting for the alarm time...\n"
          ]
        },
        {
          "output_type": "error",
          "ename": "KeyboardInterrupt",
          "evalue": "",
          "traceback": [
            "\u001b[0;31m---------------------------------------------------------------------------\u001b[0m",
            "\u001b[0;31mKeyboardInterrupt\u001b[0m                         Traceback (most recent call last)",
            "\u001b[0;32m<ipython-input-9-1fe6ae6313c7>\u001b[0m in \u001b[0;36m<cell line: 55>\u001b[0;34m()\u001b[0m\n\u001b[1;32m     54\u001b[0m \u001b[0;34m\u001b[0m\u001b[0m\n\u001b[1;32m     55\u001b[0m \u001b[0;32mif\u001b[0m \u001b[0m__name__\u001b[0m \u001b[0;34m==\u001b[0m \u001b[0;34m\"__main__\"\u001b[0m\u001b[0;34m:\u001b[0m\u001b[0;34m\u001b[0m\u001b[0;34m\u001b[0m\u001b[0m\n\u001b[0;32m---> 56\u001b[0;31m     \u001b[0mmain\u001b[0m\u001b[0;34m(\u001b[0m\u001b[0;34m)\u001b[0m\u001b[0;34m\u001b[0m\u001b[0;34m\u001b[0m\u001b[0m\n\u001b[0m",
            "\u001b[0;32m<ipython-input-9-1fe6ae6313c7>\u001b[0m in \u001b[0;36mmain\u001b[0;34m()\u001b[0m\n\u001b[1;32m     51\u001b[0m         \u001b[0malarm_time\u001b[0m \u001b[0;34m=\u001b[0m \u001b[0mset_alarm\u001b[0m\u001b[0;34m(\u001b[0m\u001b[0;34m)\u001b[0m  \u001b[0;31m# Keep asking until valid time is set\u001b[0m\u001b[0;34m\u001b[0m\u001b[0;34m\u001b[0m\u001b[0m\n\u001b[1;32m     52\u001b[0m \u001b[0;34m\u001b[0m\u001b[0m\n\u001b[0;32m---> 53\u001b[0;31m     \u001b[0mcheck_alarm\u001b[0m\u001b[0;34m(\u001b[0m\u001b[0malarm_time\u001b[0m\u001b[0;34m)\u001b[0m  \u001b[0;31m# Check for the alarm\u001b[0m\u001b[0;34m\u001b[0m\u001b[0;34m\u001b[0m\u001b[0m\n\u001b[0m\u001b[1;32m     54\u001b[0m \u001b[0;34m\u001b[0m\u001b[0m\n\u001b[1;32m     55\u001b[0m \u001b[0;32mif\u001b[0m \u001b[0m__name__\u001b[0m \u001b[0;34m==\u001b[0m \u001b[0;34m\"__main__\"\u001b[0m\u001b[0;34m:\u001b[0m\u001b[0;34m\u001b[0m\u001b[0;34m\u001b[0m\u001b[0m\n",
            "\u001b[0;32m<ipython-input-9-1fe6ae6313c7>\u001b[0m in \u001b[0;36mcheck_alarm\u001b[0;34m(alarm_time)\u001b[0m\n\u001b[1;32m     42\u001b[0m \u001b[0;34m\u001b[0m\u001b[0m\n\u001b[1;32m     43\u001b[0m         \u001b[0;31m# Wait for a second before checking again\u001b[0m\u001b[0;34m\u001b[0m\u001b[0;34m\u001b[0m\u001b[0m\n\u001b[0;32m---> 44\u001b[0;31m         \u001b[0mtime\u001b[0m\u001b[0;34m.\u001b[0m\u001b[0msleep\u001b[0m\u001b[0;34m(\u001b[0m\u001b[0;36m1\u001b[0m\u001b[0;34m)\u001b[0m\u001b[0;34m\u001b[0m\u001b[0;34m\u001b[0m\u001b[0m\n\u001b[0m\u001b[1;32m     45\u001b[0m \u001b[0;34m\u001b[0m\u001b[0m\n\u001b[1;32m     46\u001b[0m \u001b[0;31m# Main function to run the alarm clock\u001b[0m\u001b[0;34m\u001b[0m\u001b[0;34m\u001b[0m\u001b[0m\n",
            "\u001b[0;31mKeyboardInterrupt\u001b[0m: "
          ]
        }
      ]
    }
  ]
}
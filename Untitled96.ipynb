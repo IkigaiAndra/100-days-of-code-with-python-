{
  "nbformat": 4,
  "nbformat_minor": 0,
  "metadata": {
    "colab": {
      "provenance": []
    },
    "kernelspec": {
      "name": "python3",
      "display_name": "Python 3"
    },
    "language_info": {
      "name": "python"
    }
  },
  "cells": [
    {
      "cell_type": "code",
      "execution_count": 1,
      "metadata": {
        "colab": {
          "base_uri": "https://localhost:8080/"
        },
        "id": "jspIv-nZf5Yj",
        "outputId": "d43ca700-343b-4e3f-e2ba-10050cc671e2"
      },
      "outputs": [
        {
          "output_type": "stream",
          "name": "stdout",
          "text": [
            "Requirement already satisfied: cryptography in /usr/local/lib/python3.10/dist-packages (43.0.3)\n",
            "Requirement already satisfied: cffi>=1.12 in /usr/local/lib/python3.10/dist-packages (from cryptography) (1.17.1)\n",
            "Requirement already satisfied: pycparser in /usr/local/lib/python3.10/dist-packages (from cffi>=1.12->cryptography) (2.22)\n"
          ]
        }
      ],
      "source": [
        "pip install cryptography\n"
      ]
    },
    {
      "cell_type": "code",
      "source": [
        "from cryptography.hazmat.primitives.ciphers import Cipher, algorithms, modes\n",
        "from cryptography.hazmat.backends import default_backend\n",
        "from cryptography.hazmat.primitives import hashes\n",
        "from cryptography.hazmat.primitives.kdf.pbkdf2 import PBKDF2HMAC\n",
        "import os\n",
        "import base64\n",
        "import sys\n",
        "\n",
        "# 1. Generate a key from a password using PBKDF2\n",
        "def generate_key(password: str, salt: bytes) -> bytes:\n",
        "    kdf = PBKDF2HMAC(\n",
        "        algorithm=hashes.SHA256(),\n",
        "        length=32,\n",
        "        salt=salt,\n",
        "        iterations=100000,\n",
        "        backend=default_backend()\n",
        "    )\n",
        "    return kdf.derive(password.encode())\n",
        "\n",
        "# 2. Encrypt Data using AES\n",
        "def encrypt_data(data: str, password: str) -> str:\n",
        "    # Generate a random salt\n",
        "    salt = os.urandom(16)\n",
        "\n",
        "    # Generate key using the password and salt\n",
        "    key = generate_key(password, salt)\n",
        "\n",
        "    # Generate a random IV (Initialization Vector)\n",
        "    iv = os.urandom(16)\n",
        "\n",
        "    # AES encryption algorithm\n",
        "    cipher = Cipher(algorithms.AES(key), modes.CBC(iv), backend=default_backend())\n",
        "    encryptor = cipher.encryptor()\n",
        "\n",
        "    # Padding data to be a multiple of block size (16 bytes)\n",
        "    padding_length = 16 - len(data) % 16\n",
        "    padded_data = data + chr(padding_length) * padding_length\n",
        "\n",
        "    # Encrypt the data\n",
        "    encrypted_data = encryptor.update(padded_data.encode()) + encryptor.finalize()\n",
        "\n",
        "    # Return the encrypted data, salt, and iv as base64 encoded strings\n",
        "    encrypted_data_b64 = base64.b64encode(encrypted_data).decode('utf-8')\n",
        "    salt_b64 = base64.b64encode(salt).decode('utf-8')\n",
        "    iv_b64 = base64.b64encode(iv).decode('utf-8')\n",
        "\n",
        "    return f\"{salt_b64},{iv_b64},{encrypted_data_b64}\"\n",
        "\n",
        "# 3. Decrypt Data using AES\n",
        "def decrypt_data(encrypted_message: str, password: str) -> str:\n",
        "    # Split the message into salt, iv, and encrypted data\n",
        "    salt_b64, iv_b64, encrypted_data_b64 = encrypted_message.split(',')\n",
        "\n",
        "    # Decode the base64 values\n",
        "    salt = base64.b64decode(salt_b64)\n",
        "    iv = base64.b64decode(iv_b64)\n",
        "    encrypted_data = base64.b64decode(encrypted_data_b64)\n",
        "\n",
        "    # Generate the key using password and salt\n",
        "    key = generate_key(password, salt)\n",
        "\n",
        "    # AES decryption algorithm\n",
        "    cipher = Cipher(algorithms.AES(key), modes.CBC(iv), backend=default_backend())\n",
        "    decryptor = cipher.decryptor()\n",
        "\n",
        "    # Decrypt the data\n",
        "    decrypted_data = decryptor.update(encrypted_data) + decryptor.finalize()\n",
        "\n",
        "    # Remove padding\n",
        "    padding_length = decrypted_data[-1]\n",
        "    return decrypted_data[:-padding_length].decode('utf-8')\n",
        "\n",
        "# 4. Main function to demonstrate encryption and decryption\n",
        "def main():\n",
        "    print(\"Welcome to the Encryption and Decryption System\")\n",
        "\n",
        "    # Input: Plain text and password\n",
        "    text = input(\"Enter the text to encrypt: \")\n",
        "    password = input(\"Enter a password for encryption: \")\n",
        "\n",
        "    # Encrypt the data\n",
        "    encrypted_message = encrypt_data(text, password)\n",
        "    print(f\"\\nEncrypted message: {encrypted_message}\")\n",
        "\n",
        "    # Decrypt the data\n",
        "    decrypted_message = decrypt_data(encrypted_message, password)\n",
        "    print(f\"\\nDecrypted message: {decrypted_message}\")\n",
        "\n",
        "if __name__ == \"__main__\":\n",
        "    main()\n"
      ],
      "metadata": {
        "colab": {
          "base_uri": "https://localhost:8080/"
        },
        "id": "AETs6Dg2grsN",
        "outputId": "cf6b4d66-fa30-4a63-dc60-1b85b377d047"
      },
      "execution_count": 2,
      "outputs": [
        {
          "output_type": "stream",
          "name": "stdout",
          "text": [
            "Welcome to the Encryption and Decryption System\n",
            "Enter the text to encrypt: SEE U TOMMOROW\n",
            "Enter a password for encryption: HIYA@123\n",
            "\n",
            "Encrypted message: BW80miZgeBfOZ9KiGxnXTg==,ySymRYqCnSk1VfXrLkqsDw==,hrKlRyybaU4sH43w34BO+w==\n",
            "\n",
            "Decrypted message: SEE U TOMMOROW\n"
          ]
        }
      ]
    }
  ]
}
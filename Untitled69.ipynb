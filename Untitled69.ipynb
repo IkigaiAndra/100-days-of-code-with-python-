{
  "nbformat": 4,
  "nbformat_minor": 0,
  "metadata": {
    "colab": {
      "provenance": []
    },
    "kernelspec": {
      "name": "python3",
      "display_name": "Python 3"
    },
    "language_info": {
      "name": "python"
    }
  },
  "cells": [
    {
      "cell_type": "code",
      "execution_count": 1,
      "metadata": {
        "colab": {
          "base_uri": "https://localhost:8080/"
        },
        "id": "2eEDMVMJ86FV",
        "outputId": "adf48946-9916-471c-ce42-fe39524451cc"
      },
      "outputs": [
        {
          "output_type": "stream",
          "name": "stdout",
          "text": [
            "Enter a number to check if it is prime: 3689\n",
            "3689 is not a Prime Number!\n"
          ]
        }
      ],
      "source": [
        "import math\n",
        "\n",
        "# Function to check if a number is prime\n",
        "def is_prime(number):\n",
        "    if number <= 1:\n",
        "        return False\n",
        "    # Check divisibility from 2 to the square root of the number\n",
        "    for i in range(2, int(math.sqrt(number)) + 1):\n",
        "        if number % i == 0:\n",
        "            return False\n",
        "    return True\n",
        "\n",
        "# Main function\n",
        "def main():\n",
        "    # Get input from the user\n",
        "    try:\n",
        "        number = int(input(\"Enter a number to check if it is prime: \"))\n",
        "\n",
        "        # Check if the number is prime\n",
        "        if is_prime(number):\n",
        "            print(f\"{number} is a Prime Number!\")\n",
        "        else:\n",
        "            print(f\"{number} is not a Prime Number!\")\n",
        "\n",
        "    except ValueError:\n",
        "        print(\"Invalid input. Please enter a valid integer.\")\n",
        "\n",
        "# Run the main function\n",
        "if __name__ == \"__main__\":\n",
        "    main()\n"
      ]
    }
  ]
}
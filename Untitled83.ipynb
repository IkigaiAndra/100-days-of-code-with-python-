{
  "nbformat": 4,
  "nbformat_minor": 0,
  "metadata": {
    "colab": {
      "provenance": []
    },
    "kernelspec": {
      "name": "python3",
      "display_name": "Python 3"
    },
    "language_info": {
      "name": "python"
    }
  },
  "cells": [
    {
      "cell_type": "code",
      "execution_count": 1,
      "metadata": {
        "colab": {
          "base_uri": "https://localhost:8080/"
        },
        "id": "OMZJfCsql378",
        "outputId": "c3996cd4-a7db-4910-ae41-c59178a5c826"
      },
      "outputs": [
        {
          "output_type": "stream",
          "name": "stdout",
          "text": [
            "Current time (in seconds since epoch): 1736586062.2763505\n",
            "Local time (structured): time.struct_time(tm_year=2025, tm_mon=1, tm_mday=11, tm_hour=9, tm_min=1, tm_sec=2, tm_wday=5, tm_yday=11, tm_isdst=0)\n",
            "Formatted local time: 2025-01-11 09:01:02\n",
            "UTC time (structured): time.struct_time(tm_year=2025, tm_mon=1, tm_mday=11, tm_hour=9, tm_min=1, tm_sec=2, tm_wday=5, tm_yday=11, tm_isdst=0)\n",
            "Formatted UTC time: 2025-01-11 09:01:02\n",
            "Time elapsed (in seconds): 2.0022621154785156\n",
            "Pausing execution for 3 seconds...\n",
            "Execution resumed.\n",
            "Current time (human-readable): Sat Jan 11 09:01:07 2025\n",
            "Elapsed time using perf_counter (high precision): 1.001539503999993 seconds\n",
            "CPU time elapsed: 0.009628624999999946 seconds\n",
            "Execution time using timeit (for 1000 iterations): 0.03433754799999633 seconds\n"
          ]
        }
      ],
      "source": [
        "import time\n",
        "\n",
        "# 1. Get Current Time\n",
        "current_time = time.time()  # Returns the current time in seconds since the epoch (January 1, 1970).\n",
        "print(f\"Current time (in seconds since epoch): {current_time}\")\n",
        "\n",
        "# 2. Get Local Time (as a structured time object)\n",
        "local_time = time.localtime()  # Returns the current local time as a struct_time object.\n",
        "print(f\"Local time (structured): {local_time}\")\n",
        "\n",
        "# 3. Format Local Time\n",
        "formatted_time = time.strftime(\"%Y-%m-%d %H:%M:%S\", local_time)\n",
        "print(f\"Formatted local time: {formatted_time}\")\n",
        "\n",
        "# 4. Get UTC Time\n",
        "utc_time = time.gmtime()  # Returns the current UTC time as a struct_time object.\n",
        "print(f\"UTC time (structured): {utc_time}\")\n",
        "\n",
        "# 5. Format UTC Time\n",
        "formatted_utc_time = time.strftime(\"%Y-%m-%d %H:%M:%S\", utc_time)\n",
        "print(f\"Formatted UTC time: {formatted_utc_time}\")\n",
        "\n",
        "# 6. Measure Time Elapsed (using time() and sleep())\n",
        "start_time = time.time()\n",
        "time.sleep(2)  # Sleep for 2 seconds.\n",
        "end_time = time.time()\n",
        "elapsed_time = end_time - start_time\n",
        "print(f\"Time elapsed (in seconds): {elapsed_time}\")\n",
        "\n",
        "# 7. Using time.sleep() to Pause Execution\n",
        "print(\"Pausing execution for 3 seconds...\")\n",
        "time.sleep(3)\n",
        "print(\"Execution resumed.\")\n",
        "\n",
        "# 8. Getting Time as a String\n",
        "current_time_str = time.ctime()  # Returns the current time in a human-readable string format.\n",
        "print(f\"Current time (human-readable): {current_time_str}\")\n",
        "\n",
        "# 9. Time Precision with time.perf_counter() (more precise time measurements)\n",
        "start_perf_counter = time.perf_counter()\n",
        "time.sleep(1)  # Sleep for 1 second.\n",
        "end_perf_counter = time.perf_counter()\n",
        "elapsed_perf_time = end_perf_counter - start_perf_counter\n",
        "print(f\"Elapsed time using perf_counter (high precision): {elapsed_perf_time} seconds\")\n",
        "\n",
        "# 10. Time Measurement with time.process_time() (CPU time)\n",
        "start_cpu_time = time.process_time()\n",
        "time.sleep(1)  # Sleep for 1 second.\n",
        "end_cpu_time = time.process_time()\n",
        "elapsed_cpu_time = end_cpu_time - start_cpu_time\n",
        "print(f\"CPU time elapsed: {elapsed_cpu_time} seconds\")\n",
        "\n",
        "# 11. Measuring Time Interval using timeit module (alternative to time.time())\n",
        "import timeit\n",
        "execution_time = timeit.timeit('sum(range(1000))', number=1000)  # Execute statement 1000 times.\n",
        "print(f\"Execution time using timeit (for 1000 iterations): {execution_time} seconds\")\n"
      ]
    }
  ]
}